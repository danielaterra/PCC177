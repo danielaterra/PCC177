{
  "nbformat": 4,
  "nbformat_minor": 0,
  "metadata": {
    "coursera": {
      "course_slug": "neural-networks-deep-learning",
      "graded_item_id": "c4HO0",
      "launcher_item_id": "lSYZM"
    },
    "kernelspec": {
      "display_name": "Python 3",
      "language": "python",
      "name": "python3"
    },
    "language_info": {
      "codemirror_mode": {
        "name": "ipython",
        "version": 3
      },
      "file_extension": ".py",
      "mimetype": "text/x-python",
      "name": "python",
      "nbconvert_exporter": "python",
      "pygments_lexer": "ipython3",
      "version": "3.7.3"
    },
    "colab": {
      "name": "DanielaCostaTerra-Lab3.ipynb",
      "provenance": [],
      "collapsed_sections": [
        "Sl-F1Cp0cZuY",
        "8jF5eYx4Lfkc",
        "sSEMNMlOLfkd",
        "Zm-gglS4Psce",
        "Mbb4pJFaLfkl",
        "WzsLpjbHPhjY",
        "4ky5XExaLfkv",
        "v0xQWVgsLfk4",
        "THlfUk5eLflM"
      ],
      "toc_visible": true
    }
  },
  "cells": [
    {
      "cell_type": "markdown",
      "metadata": {
        "id": "Sl-F1Cp0cZuY"
      },
      "source": [
        "# Lab 3 - BCC406\n",
        "\n",
        "## REDES NEURAIS E APRENDIZAGEM EM PROFUNDIDADE\n",
        "\n",
        "## Construindo uma rede neural\n",
        "\n",
        "### Prof. Eduardo e Prof. Pedro Silva\n",
        "\n",
        "##Aluna: Daniela Costa Terra\n",
        "\n",
        "Data da entrega : 15/04 \n",
        "\n",
        "- Complete o código (marcado com ToDo) e quando requisitado, escreva textos diretamente nos notebooks. Onde tiver *None*, substitua pelo seu código.\n",
        "- Execute todo notebook e salve tudo em um PDF **nomeado** como \"NomeSobrenome-Lab3.pdf\"\n",
        "- Envie o PDF para pelo [FORM](https://forms.gle/LdGDeFYH6wQm9ahh6)"
      ]
    },
    {
      "cell_type": "markdown",
      "metadata": {
        "id": "P1TpbxeTLfkU"
      },
      "source": [
        "# **Parte 1** - Rede neural do zero: passo a passo (10pt)\n"
      ]
    },
    {
      "cell_type": "code",
      "source": [
        "from google.colab import drive\n",
        "drive.mount('/content/drive')"
      ],
      "metadata": {
        "id": "ytBld9uz9a-f",
        "colab": {
          "base_uri": "https://localhost:8080/"
        },
        "outputId": "eddb5be0-edd1-4c0d-ec4d-f487722d0445"
      },
      "execution_count": null,
      "outputs": [
        {
          "output_type": "stream",
          "name": "stdout",
          "text": [
            "Mounted at /content/drive\n"
          ]
        }
      ]
    },
    {
      "cell_type": "markdown",
      "source": [
        "**Notação**:\n",
        "- Sobrescrito índice $ [l] $ indica os valores associados a $l$-ésima camada.\n",
        "    - **Exemplo:** $ a^{[l]} $ é a ativação da $l$-ésima camada.\n",
        "- Sobrescrito índice $ (i) $ indica os valores associados ao $i$-ésima exemplo.\n",
        "    - **Exemplo:** $ x^{(i)} $ é o  $i$-ésima exemplo de treinamento.\n",
        "- Subescrito índice $ j $ indica a $j$-ésima entrada de um vetor.\n",
        "    - **Exemplo:** $a^{[l]}_j$ indica a $j$-ésima  entrada  da ativação da $ l$-ésima camada."
      ],
      "metadata": {
        "id": "H_ltW_dGP5MU"
      }
    },
    {
      "cell_type": "markdown",
      "source": [
        "## 1 - Importação dos pacotes\n"
      ],
      "metadata": {
        "id": "rTcwU5csP-Px"
      }
    },
    {
      "cell_type": "markdown",
      "metadata": {
        "id": "QAOVC8TLLfkV"
      },
      "source": [
        "Primeiro, vamos executar a célula abaixo para importar todos os pacotes que precisaremos.\n",
        "- [numpy](www.numpy.org) é o pacote fundamental para a computação científica com Python.\n",
        "- [h5py](http://www.h5py.org) é um pacote comum para interagir com um conjunto de dados armazenado em um arquivo H5.\n",
        "- [matplotlib](http://matplotlib.org) é uma biblioteca famosa para plotar gráficos em Python.\n",
        "- [PIL](http://www.pythonware.com/products/pil/) e [scipy](https://www.scipy.org/) são usados aqui para testar seu modelo.\n",
        "- dnn_utils fornece algumas funções necessárias para este notebook.\n",
        "- testCases fornece alguns casos de teste para avaliar as funções.\n",
        "- np.random.seed (1) é usado para manter todas as chamadas de funções aleatórias. "
      ]
    },
    {
      "cell_type": "code",
      "metadata": {
        "id": "J9BlvNrOLl3M",
        "colab": {
          "base_uri": "https://localhost:8080/"
        },
        "outputId": "c96e4fb1-198f-4a21-884a-ae2d74731c99"
      },
      "source": [
        "# Para Google Colab: Você vai precisar fazer o upload dos arquivos no seu drive e montá-lo\n",
        "# não se esqueça de ajustar o path para o seu drive\n",
        "from google.colab import drive\n",
        "drive.mount('/content/drive')"
      ],
      "execution_count": null,
      "outputs": [
        {
          "output_type": "stream",
          "name": "stdout",
          "text": [
            "Mounted at /content/drive\n"
          ]
        }
      ]
    },
    {
      "cell_type": "code",
      "metadata": {
        "id": "CEWo1hJ4TpN9"
      },
      "source": [
        "# Você vai precisar inserir seu diretório para importar as \"bibliotecas próprias\" auxiliares deste notebook\n",
        "# não se esqueça de ajustar o path para o seu diretório\n",
        "\n",
        "import sys\n",
        "sys.path.append('/content/drive/MyDrive/disciplinasDoutorado/PCC177-2022-1(Redes)/lab3')"
      ],
      "execution_count": null,
      "outputs": []
    },
    {
      "cell_type": "code",
      "metadata": {
        "id": "ne48u9hjLfkX"
      },
      "source": [
        "import numpy as np\n",
        "import h5py\n",
        "import matplotlib.pyplot as plt\n",
        "# bibliotecas auxiliares (ver testCases_v4a.py e dnn_utils_v2.py)\n",
        "from testCases_v4a import *\n",
        "from dnn_utils_v2 import sigmoid, sigmoid_backward, relu, relu_backward\n",
        "#\n",
        "\n",
        "%matplotlib inline\n",
        "plt.rcParams['figure.figsize'] = (5.0, 4.0) # set default size of plots\n",
        "plt.rcParams['image.interpolation'] = 'nearest'\n",
        "plt.rcParams['image.cmap'] = 'gray'\n",
        "\n",
        "%load_ext autoreload\n",
        "%autoreload 2\n",
        "\n",
        "np.random.seed(1)"
      ],
      "execution_count": null,
      "outputs": []
    },
    {
      "cell_type": "markdown",
      "metadata": {
        "id": "8jF5eYx4Lfkc"
      },
      "source": [
        "## 2 - Esboço das Funções auxiliares\n"
      ]
    },
    {
      "cell_type": "markdown",
      "source": [
        "\n",
        "\n",
        "- Inicialização dos parâmetros da rede.\n",
        "- Implementação da fase forward propagation (roxo na figura abaixo).\n",
        "     - Complete a parte LINEAR da etapa de forward propagation de uma camada (resultando em $ Z^{[l]}$).\n",
        "     - Fornecemos a função ATIVAÇÃO (relu / sigmóide).\n",
        "     - Combine os dois passos anteriores em uma nova função de avanço [LINEAR-> ATIVAÇÃO].\n",
        "     - Empilhe a função de avanço [LINEAR-> RELU] L-1 (para as camadas 1 a L-1) e adicione um [LINEAR-> SIGMOID] no final (para a camada final $ L $). Isso fornece uma nova função L_model_forward.\n",
        "- Cálculo a função loss.\n",
        "- Implementação da fase backward propagation (vermelho na figura abaixo).\n",
        "    - Complete a parte LINEAR da etapa de backward propagation de uma camada.\n",
        "    - Fornecemos o gradiente da função (relu_backward / sigmoid_backward)\n",
        "    - Combine as duas etapas anteriores em uma nova função [LINEAR-> ATIVAÇÃO] para trás.\n",
        "    - Empilhe [LINEAR-> RELU] para trás L-1 vezes e adicione [LINEAR-> SIGMOID] para trás em uma nova função L_model_backward\n",
        "- Atualização dos parâmetros.\n",
        "\n",
        "![Arq,widht=10](https://drive.google.com/uc?export=view&id=19iowxbfZWLXFvB6eGP0hcRZcsQFltmHk)\n",
        "\n",
        "<caption><center> **Figura 1**</center></caption><br>\n",
        "\n",
        "**Observe** que para todas as etapas forward, existe uma etapa backward correspondente. É por isso que em cada etapa forward você estará armazenando alguns valores em cache. Os valores em cache são úteis para calcular gradientes. Na etapa backward, você usará o cache para calcular os gradientes. "
      ],
      "metadata": {
        "id": "oXNJeQVVPyA1"
      }
    },
    {
      "cell_type": "markdown",
      "metadata": {
        "id": "sSEMNMlOLfkd"
      },
      "source": [
        "## 3 - Inicialização (1pt)\n"
      ]
    },
    {
      "cell_type": "markdown",
      "source": [
        "\n",
        "A função será usada para inicializar parâmetros para uma rede com $ L $-camadas.\n",
        "\n",
        "### 3.1 - Rede Neural com $L$-camadas\n",
        "\n",
        "**Instruções**:\n",
        "- A estrutura do modelo é * [LINEAR -> RELU] $ \\times $ (L-1) -> LINEAR -> SIGMOID *. Ou seja, possui (L-1) camadas  usando uma função de ativação ReLU seguida por uma camada de saída com uma função de ativação sigmóide.\n",
        "- Use inicialização aleatória para as matrizes de peso. Use `np.random.randn(shape) * 0,01`.\n",
        "- Use a inicialização de zeros para os vieses. Use `np.zeros(shape)`.\n",
        "- Armazenaremos $ n ^ {[l]} $, o número de elementos/neurônios na camada $l$, em uma variável `camadas_dims`. Por exemplo, `camadas_dims = [2,4,1]` é uma rede com duas entradas, uma camada oculta com 4 unidades/neurônios e uma camada de saída com 1 unidade/neurônio de saída . "
      ],
      "metadata": {
        "id": "Zm-gglS4Psce"
      }
    },
    {
      "cell_type": "code",
      "metadata": {
        "id": "HL745AoeLfke"
      },
      "source": [
        "# Inicialize_parametros\n",
        "\n",
        "def inicialize_parametros(camadas_dims):\n",
        "    \"\"\"\n",
        "    Entrada:\n",
        "    camadas_dims -- python array (lista) contendo a dimensão de cada camada da rede\n",
        "    \n",
        "    \n",
        "    Saída:\n",
        "    parametros   -- python dicionario contendo os parametros \"W1\", \"b1\", ..., \"WL\", \"bL\":\n",
        "                    Wl -- vetor de pesos com formato (camadas_dims[l], camadas_dims[l-1])\n",
        "                    bl -- vetor de vies com formato (camadas_dims[l], 1)\n",
        "    \"\"\"\n",
        "    \n",
        "    np.random.seed(3)\n",
        "    parametros = {}\n",
        "    L = len(camadas_dims)         # ToDo: número de camadas da rede\n",
        "\n",
        "    ### Início do código ### \n",
        "    for l in range(1, L):\n",
        "      # dica: itere pelo número de camadas, inicializando pesos e viés de cada camada,\n",
        "      # e armazenem em parameters (≈ 2 linhas de código)\n",
        "      parametros['W' + str(l)] = np.random.randn(camadas_dims[l], camadas_dims[l-1]) * 0.01 # ToDo   \n",
        "      parametros['b' + str(l)] = np.zeros((camadas_dims[l], 1)) # ToDo    \n",
        "    ### Fim do código ###\n",
        "        \n",
        "    return parametros"
      ],
      "execution_count": null,
      "outputs": []
    },
    {
      "cell_type": "markdown",
      "metadata": {
        "id": "1HPweLSNLfkh"
      },
      "source": [
        "**Comentários** \n",
        "Ao concluir o `inicialize_parametros`, certifique-se de que as dimensões entre cada camada estejam corretas. Lembre-se de que $ n ^ {[l]} $ é o número de unidades na camada $ l $. Assim, por exemplo, se o tamanho da nossa entrada $ X $ for $ (12288, 209) $ (com número de exemplos $ m = 209 $), então:\n",
        "\n",
        "<table style=\"width:100%\">\n",
        "\n",
        "\n",
        "   <tr>\n",
        "        <td>  </td> \n",
        "        <td> **Formato de W** </td> \n",
        "        <td> **Formato de b**  </td> \n",
        "        <td> **Ativação** </td>\n",
        "         <td> **Formato da Ativação** </td> \n",
        "    <tr>\n",
        "    \n",
        "   <tr>\n",
        "        <td> **Camada 1** </td> \n",
        "        <td> $(n^{[1]},12288)$ </td> \n",
        "        <td> $(n^{[1]},1)$ </td> \n",
        "        <td> $Z^{[1]} = W^{[1]}  X + b^{[1]} $ </td>         \n",
        "        <td> $(n^{[1]},209)$ </td> \n",
        "    <tr>\n",
        "    \n",
        "   <tr>\n",
        "        <td> **Camada 2** </td> \n",
        "        <td> $(n^{[2]}, n^{[1]})$  </td> \n",
        "        <td> $(n^{[2]},1)$ </td> \n",
        "        <td>$Z^{[2]} = W^{[2]} A^{[1]} + b^{[2]}$ </td> \n",
        "        <td> $(n^{[2]}, 209)$ </td> \n",
        "    <tr>\n",
        "   \n",
        "   <tr>\n",
        "        <td> $\\vdots$ </td> \n",
        "        <td> $\\vdots$  </td> \n",
        "        <td> $\\vdots$  </td> \n",
        "        <td> $\\vdots$</td> \n",
        "        <td> $\\vdots$  </td> \n",
        "    <tr>\n",
        "    \n",
        "   <tr>\n",
        "        <td> **Camada L-1** </td> \n",
        "        <td> $(n^{[L-1]}, n^{[L-2]})$ </td> \n",
        "        <td> $(n^{[L-1]}, 1)$  </td> \n",
        "        <td>$Z^{[L-1]} =  W^{[L-1]} A^{[L-2]} + b^{[L-1]}$ </td> \n",
        "        <td> $(n^{[L-1]}, 209)$ </td> \n",
        "    <tr>\n",
        "    \n",
        "    \n",
        "   <tr>\n",
        "        <td> **Camada L** </td> \n",
        "        <td> $(n^{[L]}, n^{[L-1]})$ </td> \n",
        "        <td> $(n^{[L]}, 1)$ </td>\n",
        "        <td> $Z^{[L]} =  W^{[L]} A^{[L-1]} + b^{[L]}$</td>\n",
        "        <td> $(n^{[L]}, 209)$  </td> \n",
        "    <tr>\n",
        "\n",
        "</table>\n"
      ]
    },
    {
      "cell_type": "code",
      "metadata": {
        "id": "e9iMuR52Lfkh",
        "colab": {
          "base_uri": "https://localhost:8080/"
        },
        "outputId": "360fef11-23b1-41a0-b685-5de51f064fd3"
      },
      "source": [
        "# Teste\n",
        "parametros = inicialize_parametros([5,4,3])\n",
        "print(\"W1 = \" + str(parametros[\"W1\"]))\n",
        "print(\"b1 = \" + str(parametros[\"b1\"]))\n",
        "print(\"W2 = \" + str(parametros[\"W2\"]))\n",
        "print(\"b2 = \" + str(parametros[\"b2\"]))"
      ],
      "execution_count": null,
      "outputs": [
        {
          "output_type": "stream",
          "name": "stdout",
          "text": [
            "W1 = [[ 0.01788628  0.0043651   0.00096497 -0.01863493 -0.00277388]\n",
            " [-0.00354759 -0.00082741 -0.00627001 -0.00043818 -0.00477218]\n",
            " [-0.01313865  0.00884622  0.00881318  0.01709573  0.00050034]\n",
            " [-0.00404677 -0.0054536  -0.01546477  0.00982367 -0.01101068]]\n",
            "b1 = [[0.]\n",
            " [0.]\n",
            " [0.]\n",
            " [0.]]\n",
            "W2 = [[-0.01185047 -0.0020565   0.01486148  0.00236716]\n",
            " [-0.01023785 -0.00712993  0.00625245 -0.00160513]\n",
            " [-0.00768836 -0.00230031  0.00745056  0.01976111]]\n",
            "b2 = [[0.]\n",
            " [0.]\n",
            " [0.]]\n"
          ]
        }
      ]
    },
    {
      "cell_type": "markdown",
      "metadata": {
        "id": "bPW7fW79Lfkl"
      },
      "source": [
        "**Valores esperados**:\n",
        "       \n",
        "<table style=\"width:80%\">\n",
        "  <tr>\n",
        "    <td> **W1** </td>\n",
        "    <td>[[ 0.01788628  0.0043651   0.00096497 -0.01863493 -0.00277388]\n",
        " [-0.00354759 -0.00082741 -0.00627001 -0.00043818 -0.00477218]\n",
        " [-0.01313865  0.00884622  0.00881318  0.01709573  0.00050034]\n",
        " [-0.00404677 -0.0054536  -0.01546477  0.00982367 -0.01101068]]</td> \n",
        "  </tr>\n",
        "  \n",
        "  <tr>\n",
        "    <td>**b1** </td>\n",
        "    <td>[[ 0.]\n",
        " [ 0.]\n",
        " [ 0.]\n",
        " [ 0.]]</td> \n",
        "  </tr>\n",
        "  \n",
        "  <tr>\n",
        "    <td>**W2** </td>\n",
        "    <td>[[-0.01185047 -0.0020565   0.01486148  0.00236716]\n",
        " [-0.01023785 -0.00712993  0.00625245 -0.00160513]\n",
        " [-0.00768836 -0.00230031  0.00745056  0.01976111]]</td> \n",
        "  </tr>\n",
        "  \n",
        "  <tr>\n",
        "    <td>**b2** </td>\n",
        "    <td>[[ 0.]\n",
        " [ 0.]\n",
        " [ 0.]]</td> \n",
        "  </tr>\n",
        "  \n",
        "</table>"
      ]
    },
    {
      "cell_type": "markdown",
      "metadata": {
        "id": "Mbb4pJFaLfkl"
      },
      "source": [
        "## 4 - Fase: Forward propagation (2pt)\n"
      ]
    },
    {
      "cell_type": "markdown",
      "source": [
        "\n",
        "Usaremos duas funções:\n",
        "- LINEAR\n",
        "- [LINEAR -> RELU] $\\times$ (L-1) -> LINEAR -> SIGMOID\n",
        "\n",
        "### 4.1 - Linear Forward \n",
        "\n",
        "A função linear_forward (sobre todos os examples) é definida pela equação:\n",
        "\n",
        "$$Z^{[l]} = W^{[l]}A^{[l-1]} +b^{[l]}\\tag{4}$$\n",
        "\n",
        "onde $A^{[0]} = X$. \n",
        "\n",
        "\n",
        "**Lembrete**\n",
        "Lembre-se de que quando calculamos $ W X + b $ em python, ele realiza `broadcasting`. Por exemplo, se:\n",
        "$$ W = \\begin{bmatrix}\n",
        "    j  & k  & l\\\\\n",
        "    m  & n & o \\\\\n",
        "    p  & q & r \n",
        "\\end{bmatrix}\\;\\;\\; X = \\begin{bmatrix}\n",
        "    a  & b  & c\\\\\n",
        "    d  & e & f \\\\\n",
        "    g  & h & i \n",
        "\\end{bmatrix} \\;\\;\\; b =\\begin{bmatrix}\n",
        "    s  \\\\\n",
        "    t  \\\\\n",
        "    u\n",
        "\\end{bmatrix}\\tag{2}$$\n",
        "\n",
        "Então $WX + b$ será:\n",
        "\n",
        "$$ WX + b = \\begin{bmatrix}\n",
        "    (ja + kd + lg) + s  & (jb + ke + lh) + s  & (jc + kf + li)+ s\\\\\n",
        "    (ma + nd + og) + t & (mb + ne + oh) + t & (mc + nf + oi) + t\\\\\n",
        "    (pa + qd + rg) + u & (pb + qe + rh) + u & (pc + qf + ri)+ u\n",
        "\\end{bmatrix}\\tag{3}  $$"
      ],
      "metadata": {
        "id": "WzsLpjbHPhjY"
      }
    },
    {
      "cell_type": "code",
      "metadata": {
        "id": "p2zuS4HdLfkn"
      },
      "source": [
        "# Função linear_forward\n",
        "\n",
        "def linear_forward(A, W, b):\n",
        "    \"\"\"\n",
        "    Implementa a parte linear da fase de propogação nas camadas\n",
        "\n",
        "    Entradas:\n",
        "    A - dados de entrada da camada atual (ativações da camada anterior): formato (tamanho da camada anterior, número de exemplos)\n",
        "    W - matriz de pesos: matriz numpy com formato (tamanho da camada atual, tamanho da camada anterior)\n",
        "    b - vetor de viés, matriz numpy com formato (tamanho da camada atual, 1)\n",
        "\n",
        "    Saídas:\n",
        "    Z -- a entrada da função de ativação, também chamada de parâmetro de pré-ativação\n",
        "    cache - uma tupla python contendo \"A\", \"W\" e \"b\"; (armazenado para usar na fase backward propagation)\n",
        "    \"\"\"\n",
        "    \n",
        "    ### Início do código ### (≈ 2 linhas de código)\n",
        "    Z = W.dot(A) + b # dica: use a funçao .dot() \n",
        "    cache = (A, W, b)\n",
        "    ### Fim do código ###\n",
        "    \n",
        "    return Z, cache"
      ],
      "execution_count": null,
      "outputs": []
    },
    {
      "cell_type": "code",
      "metadata": {
        "id": "4yaYF_aMLfkr",
        "colab": {
          "base_uri": "https://localhost:8080/"
        },
        "outputId": "b4283184-7c10-41cf-cb6d-9e5c953c44fa"
      },
      "source": [
        "# Teste\n",
        "A, W, b = linear_forward_test_case()\n",
        "\n",
        "Z, linear_cache = linear_forward(A, W, b)\n",
        "Z, linear_cache"
      ],
      "execution_count": null,
      "outputs": [
        {
          "output_type": "execute_result",
          "data": {
            "text/plain": [
              "(array([[ 3.26295337, -1.23429987]]), (array([[ 1.62434536, -0.61175641],\n",
              "         [-0.52817175, -1.07296862],\n",
              "         [ 0.86540763, -2.3015387 ]]),\n",
              "  array([[ 1.74481176, -0.7612069 ,  0.3190391 ]]),\n",
              "  array([[-0.24937038]])))"
            ]
          },
          "metadata": {},
          "execution_count": 21
        }
      ]
    },
    {
      "cell_type": "markdown",
      "metadata": {
        "id": "y0zOgOn1Lfku"
      },
      "source": [
        "**Valores Esperados**:\n",
        "\n",
        "<table style=\"width:35%\">\n",
        "  \n",
        "  <tr>\n",
        "    <td> **Z** </td>\n",
        "    <td> [[ 3.26295337 -1.23429987]] </td> \n",
        "  </tr>\n",
        "  \n",
        "</table>"
      ]
    },
    {
      "cell_type": "markdown",
      "metadata": {
        "id": "4ky5XExaLfkv"
      },
      "source": [
        "### 4.2 - Linear-Ativação Forward\n",
        "\n",
        "Usaremos duas funções de ativação:\n",
        "\n",
        "- **Sigmoid**: $\\sigma(Z) = \\sigma(W A + b) = \\frac{1}{ 1 + e^{-(W A + b)}}$. A função `sigmoid`, **retorna dois** itens: o valor de ativação \"` a` \"e um\" `cache`\" que contém \"` Z` \"(necessário para a fase backward correspondente). Para usá-lo, basta chamar: \n",
        "``` python\n",
        "A, ativacao_cache = sigmoid(Z)\n",
        "```\n",
        "\n",
        "- **ReLU**: A formula é $A = RELU(Z) = max(0, Z)$. A função `relu`, **retorna dois** itens: o valor de ativação \"` a` \"e um\" `cache`\" que contém \"` Z` \"(necessário para a fase backward correspondente). Para usá-lo, basta chamar:\n",
        "``` python\n",
        "A, ativacao_cache = relu(Z)\n",
        "```"
      ]
    },
    {
      "cell_type": "markdown",
      "metadata": {
        "id": "_Yoy96_gLfkv"
      },
      "source": [
        "**Exercício**: Implemente a *LINEAR-> ATIVAÇÃO* da camada da fase forward propagation. A relação matemática é: $ A^{[l]} = g (Z^{[l]}) = g (W^{[l]} A^{[l-1]} + b^{[l]} ) $ onde a ativação \"g\" pode ser `sigmoid` ou `relu`. Use a função linear_forward ()."
      ]
    },
    {
      "cell_type": "code",
      "metadata": {
        "id": "5ia-RStILfkw"
      },
      "source": [
        "# Função linear_ativacao_forward\n",
        "\n",
        "def linear_ativacao_forward(A_prev, W, b, ativacao):\n",
        "    \"\"\"\n",
        "    Implementa a *LINEAR-> ATIVAÇÃO* da camada da fase forward propagation\n",
        "\n",
        "    Entradas:\n",
        "    A_prev -- dados de entrada da camada atual (ativações da camada anterior): formato (tamanho da camada anterior, número de exemplos)\n",
        "    W - matriz de pesos: matriz numpy com formato (tamanho da camada atual, tamanho da camada anterior)\n",
        "    b - vetor de viés, matriz numpy com formato (tamanho da camada atual, 1)\n",
        "    ativacao -- \"sigmoid\" ou \"relu\"\n",
        "\n",
        "    Saídas:\n",
        "    A -- a saída da função de ativação, também chamada de valor da pós-ativação\n",
        "    cache -- uma tupla python contendo \"linear_cache\" e \"ativacao_cache\"; \n",
        "    (armazenado para usar na fase backward propagation)          \n",
        "    \"\"\"\n",
        "    A = np.array([])\n",
        "    cache = ()\n",
        "    if ativacao == \"sigmoid\":\n",
        "        # Entradas: \"A_prev, W, b\". Saídas: \"A, ativacao_cache\".\n",
        "        ### Início do código ###\n",
        "        # dicas: use sua funcao de propagação e as funções de ativação fornecidas em dnn_utils_v2.py\n",
        "        Z, linear_cache = linear_forward(A_prev, W, b)\n",
        "        A, activation_cache = sigmoid(Z) \n",
        "        cache = (linear_cache, activation_cache)\n",
        "        ### Fim do código ###\n",
        "    \n",
        "    elif ativacao == \"relu\":\n",
        "        # Entradas: \"A_prev, W, b\". Saídas: \"A, ativacao_cache\".\n",
        "        ### Início do código ### \n",
        "        # dicas: use sua funcao de propagação e as funções de ativação fornecidas em dnn_utils_v2.py\n",
        "        Z, linear_cache = linear_forward(A_prev, W, b)\n",
        "        A, activation_cache = relu(Z)\n",
        "        cache = (linear_cache, activation_cache)\n",
        "        ### Fim do código ###\n",
        "    \n",
        "    return A, cache"
      ],
      "execution_count": null,
      "outputs": []
    },
    {
      "cell_type": "code",
      "metadata": {
        "id": "p_AkFIuvLfk0",
        "colab": {
          "base_uri": "https://localhost:8080/"
        },
        "outputId": "77a4a61e-c923-48de-8207-b0d75fb372c9"
      },
      "source": [
        "# Teste\n",
        "\n",
        "A_prev, W, b = linear_activation_forward_test_case()\n",
        "\n",
        "A, linear_ativacao_cache = linear_ativacao_forward(A_prev, W, b, ativacao = \"sigmoid\")\n",
        "print(\"com sigmoid: A = \" + str(A))\n",
        "\n",
        "A, linear_ativacao_cache = linear_ativacao_forward(A_prev, W, b, ativacao = \"relu\")\n",
        "print(\"com ReLU: A = \" + str(A))\n",
        "\n"
      ],
      "execution_count": null,
      "outputs": [
        {
          "output_type": "stream",
          "name": "stdout",
          "text": [
            "com sigmoid: A = [[0.96890023 0.11013289]]\n",
            "com ReLU: A = [[3.43896131 0.        ]]\n"
          ]
        }
      ]
    },
    {
      "cell_type": "markdown",
      "metadata": {
        "id": "uzUZyUGZLfk3"
      },
      "source": [
        "**Valores esperados**:\n",
        "       \n",
        "<table style=\"width:35%\">\n",
        "  <tr>\n",
        "    <td> **com sigmoid: A ** </td>\n",
        "    <td > [[ 0.96890023  0.11013289]]</td> \n",
        "  </tr>\n",
        "  <tr>\n",
        "    <td> **com ReLU: A ** </td>\n",
        "    <td > [[ 3.43896131  0.        ]]</td> \n",
        "  </tr>\n",
        "</table>\n"
      ]
    },
    {
      "cell_type": "markdown",
      "metadata": {
        "id": "v0xQWVgsLfk4"
      },
      "source": [
        "### d) Modelo de L-camadas\n",
        "\n",
        "Replica a função `linear_ativacao_forward` com RELU $(L-1)$ vezes, depois uma vez `linear_ativacao_forward` com SIGMOID.\n",
        "\n",
        "![Arq,widht=10](https://drive.google.com/uc?export=view&id=19bhG0GkUjw3fLBTmoKjDZImWcq2nE2GD)\n",
        "\n",
        "\n",
        "<caption><center> **Figura 2** : Esquema do modelo *[LINEAR -> RELU] $\\times$ (L-1) -> LINEAR -> SIGMOID* </center></caption><br>\n",
        "\n",
        "**Instrução**: A variável `AL` é $A^{[L]} = \\sigma(Z^{[L]}) = \\sigma(W^{[L]} A^{[L-1]} + b^{[L]})$. (ativaçnao da última camada, i.e., $\\hat{Y}$.) "
      ]
    },
    {
      "cell_type": "code",
      "metadata": {
        "id": "Iz4OPSekLfk4"
      },
      "source": [
        "# L_modelo_forward\n",
        "\n",
        "def L_modelo_forward(X, parametros):\n",
        "    \"\"\"\n",
        "    Implementa a fase forward propagation \n",
        "    \n",
        "    Entradas:\n",
        "    X -- dados, numpy array de tamanho (input size, number of examples)\n",
        "    parametros -- parametros iniciais\n",
        "    \n",
        "    Saídas:\n",
        "    AL -- valor da pós-ativação da última camada\n",
        "    caches -- lista dos caches contendo:\n",
        "                todos caches da linear_ativacao_forward() (existem L-1 deles, indexados de 1 a L-1)\n",
        "    \"\"\"\n",
        "\n",
        "    caches = []\n",
        "    A = X                      # dados da camada inicial\n",
        "    L = int(len(parametros)/2)      # números de camadas da rede\n",
        "    \n",
        "    # Implemente [LINEAR -> RELU]*(L-1). Adicione o \"linear_cache\" para a lista \"caches\".\n",
        "    ### Início do código ### \n",
        "    for l in range(1, L):\n",
        "        A_prev = A         \n",
        "        A, cache = linear_ativacao_forward(A_prev, parametros[\"W\"+str(l)], parametros[\"b\"+str(l)], ativacao = \"relu\")    # dica: utilize linear_activation_forward()\n",
        "        caches.append(cache)\n",
        "    ### Fim do código ###\n",
        "    \n",
        "    # Implement LINEAR -> SIGMOID. Add \"cache\" to the \"caches\" list.\n",
        "    ### Início do código ### \n",
        "    AL, cache =   linear_ativacao_forward(A, parametros[\"W\"+str(L)], parametros[\"b\"+str(L)], ativacao = \"sigmoid\") # dica : utilize linear_activation_forward()\n",
        "    caches.append(cache)\n",
        "    ### Fim do código ###\n",
        "    \n",
        "               \n",
        "    return AL, caches"
      ],
      "execution_count": null,
      "outputs": []
    },
    {
      "cell_type": "code",
      "metadata": {
        "id": "9mK30kYjLfk7",
        "colab": {
          "base_uri": "https://localhost:8080/"
        },
        "outputId": "e1481b82-a3a8-4551-a1d8-7ee22f8009ae"
      },
      "source": [
        "X, parametros = L_model_forward_test_case_2hidden()\n",
        "AL, caches = L_modelo_forward(X, parametros)\n",
        "\n",
        "print(\"AL = \" + str(AL))\n",
        "print(\"Tamanho da lista caches = \" + str(len(caches)))"
      ],
      "execution_count": null,
      "outputs": [
        {
          "output_type": "stream",
          "name": "stdout",
          "text": [
            "AL = [[0.03921668 0.70498921 0.19734387 0.04728177]]\n",
            "Tamanho da lista caches = 3\n"
          ]
        }
      ]
    },
    {
      "cell_type": "markdown",
      "metadata": {
        "id": "9CG1VCWELfk_"
      },
      "source": [
        "**Valores Esperados:**\n",
        "\n",
        "<table style=\"width:50%\">\n",
        "  <tr>\n",
        "    <td> **AL** </td>\n",
        "    <td > [[ 0.03921668  0.70498921  0.19734387  0.04728177]]</td> \n",
        "  </tr>\n",
        "  <tr>\n",
        "    <td> **Tamanho da lista caches ** </td>\n",
        "    <td > 3 </td> \n",
        "  </tr>\n",
        "</table>"
      ]
    },
    {
      "cell_type": "markdown",
      "metadata": {
        "id": "Qil7E18JLfk_"
      },
      "source": [
        "Usando $A^{[L]}$, você deve calcular o custo da rede."
      ]
    },
    {
      "cell_type": "markdown",
      "metadata": {
        "id": "SiqOiRqvLflC"
      },
      "source": [
        "## 5 - Função Custo (cross-entropy) (2pt)\n",
        "\n"
      ]
    },
    {
      "cell_type": "markdown",
      "source": [
        "\n",
        "Para a fase backward propagation é necessário o cálculo da funcão custo.\n",
        "\n",
        "**Exercício**: Use a seguinte função custo: $$-\\frac{1}{m} \\sum\\limits_{i = 1}^{m} \\left(y^{(i)}\\log\\left(a^{[L] (i)}\\right) + (1-y^{(i)})\\log\\left(1- a^{[L](i)}\\right)\\right) \\tag{7}$$\n",
        "\n",
        "obs.: veja que é a mesma implementada para o Lab1b."
      ],
      "metadata": {
        "id": "rBGpvFlFParB"
      }
    },
    {
      "cell_type": "code",
      "metadata": {
        "id": "2UDSELo2LflD"
      },
      "source": [
        "## Função custo\n",
        "\n",
        "def custo(AL, Y, m):\n",
        "    \"\"\"\n",
        "    Implementa a função custo da rede.\n",
        "\n",
        "    Entradas:\n",
        "    AL -- Probabiliade de predição da rede, (1, numero de exemplos)\n",
        "    Y -- Vetor de rótulos dos exemplos de treinamento  ( 0 se não tem gato, 1 tem gato ), (1, numero de exemplos)\n",
        "\n",
        "    Saída:\n",
        "    custo -- custo da rede\n",
        "    \"\"\"\n",
        "    \n",
        "    #m = Y.shape[1] # número de exemplos\n",
        "\n",
        "    # Compute loss from AL and y.\n",
        "    ###Início do código ### (≈ 1 linha de código)\n",
        "    print(m, 1/m)\n",
        "    custo = -1/m*np.sum(np.sum(Y*np.log(AL) + (1 - Y)*np.log(1 - AL), axis=0))\n",
        "    ### Fim do código ###\n",
        "    \n",
        "    custo = np.squeeze(custo)      # assegurar o formato experado ( [[17]] para 17).\n",
        "    \n",
        "    \n",
        "    return custo"
      ],
      "execution_count": null,
      "outputs": []
    },
    {
      "cell_type": "code",
      "metadata": {
        "id": "yhS4QgwnLflH",
        "colab": {
          "base_uri": "https://localhost:8080/"
        },
        "outputId": "f14b8fc6-1bcf-4b1a-dea2-5593fdb2397e"
      },
      "source": [
        "Y, AL = compute_cost_test_case()\n",
        "\n",
        "print(\"custo = \" + str(custo(AL, Y,  m = Y.shape[1])))"
      ],
      "execution_count": null,
      "outputs": [
        {
          "output_type": "stream",
          "name": "stdout",
          "text": [
            "3 0.3333333333333333\n",
            "custo = 0.2797765635793422\n"
          ]
        }
      ]
    },
    {
      "cell_type": "markdown",
      "metadata": {
        "id": "g_ew5cpfLflL"
      },
      "source": [
        "**Valores Esperados**:\n",
        "\n",
        "<table>\n",
        "\n",
        "   <tr>\n",
        "    <td>**custo** </td>\n",
        "    <td> 0.2797765635793422</td> \n",
        "    </tr>\n",
        "</table>"
      ]
    },
    {
      "cell_type": "markdown",
      "metadata": {
        "id": "u2DIdIlWLflM"
      },
      "source": [
        "## 6 - Fase: Backward propagation (2pt)\n"
      ]
    },
    {
      "cell_type": "markdown",
      "source": [
        "Com funções auxiliares, a fase back propagation é usada para calcular o gradiente da função loss em relação aos parâmetros. \n",
        "\n",
        "**Lembrete**: \n",
        "![Arq,widht=10](https://drive.google.com/uc?export=view&id=19lwOgDLuWoMzXjHafCPkj3dzZcSyeh0r)\n",
        "\n",
        "<caption><center> **Figura 3** : <br> *Os blocos roxos representam a fase forward propagation, e os vermelhos representam a fase backward propagation.*  </center></caption>\n",
        "\n",
        "\n",
        "\n",
        "Usaremos duas funções, igualmente feito na fase forward:\n",
        "- LINEAR\n",
        "- [LINEAR -> RELU] $\\times$ (L-1) -> LINEAR -> SIGMOID"
      ],
      "metadata": {
        "id": "psreXfdrPXu2"
      }
    },
    {
      "cell_type": "markdown",
      "metadata": {
        "id": "THlfUk5eLflM"
      },
      "source": [
        "### 6.1 - Linear backward\n",
        "\n",
        "Para a camada $l$, a parte linear é: $Z^{[l]} = W^{[l]} A^{[l-1]} + b^{[l]}$ (seguida por uma ativação).\n",
        "\n",
        "Suponha que $dZ^{[l]} = \\frac{\\partial \\mathcal{L} }{\\partial Z^{[l]}}$ já foi calculado. \n",
        "\n",
        "![Arq,widht=10](https://drive.google.com/uc?export=view&id=19hp00jo-CAsdBswuxFfLsN0JHbsXl5-1)\n",
        "\n",
        "<caption><center> **Figura 4** </center></caption>\n",
        "\n",
        "As saídas $(dW^{[l]}, db^{[l]}, dA^{[l-1]})$ são calculadas usando $dZ^{[l]}$:\n",
        "$$ dW^{[l]} = \\frac{\\partial \\mathcal{J} }{\\partial W^{[l]}} = \\frac{1}{m} dZ^{[l]} A^{[l-1] T} \\tag{8}$$\n",
        "$$ db^{[l]} = \\frac{\\partial \\mathcal{J} }{\\partial b^{[l]}} = \\frac{1}{m} \\sum_{i = 1}^{m} dZ^{[l](i)}\\tag{9}$$\n",
        "$$ dA^{[l-1]} = \\frac{\\partial \\mathcal{L} }{\\partial A^{[l-1]}} = W^{[l] T} dZ^{[l]} \\tag{10}$$\n"
      ]
    },
    {
      "cell_type": "markdown",
      "metadata": {
        "id": "77ryBJfZLflN"
      },
      "source": [
        "**Exercício**: Use as 3 fórmulas acima para implementar linear_backward( )."
      ]
    },
    {
      "cell_type": "code",
      "metadata": {
        "id": "Kbnstv6ZLflN"
      },
      "source": [
        "# linear_backward\n",
        "\n",
        "def linear_backward(dZ, cache):\n",
        "    \"\"\"\n",
        "    Implementa a parte linear da fase backward propagation em uma camada l\n",
        "\n",
        "    Entradas:\n",
        "    dZ -- gradiente do custo em relação a saída linear da camada l\n",
        "    cache -- tupla (A_prev, W, b) vindo da forward propagation da camada l\n",
        "\n",
        "    Saídas:\n",
        "    dA_prev -- gradiente do custo em relação a ativação da camada l-1,\n",
        "    dW -- gradiente do custo em relação a W  da camada l,\n",
        "    db -- gradiente do custo em relação a b,\n",
        "    \"\"\"\n",
        "    A_prev, W, b = cache\n",
        "    m = A_prev.shape[1]\n",
        "\n",
        "    #print(A_prev.shape[1])\n",
        "    #print(dZ.shape[1])\n",
        "\n",
        "    ### Início do código ### \n",
        "    dW = 1/m * dZ.dot(A_prev.T)\n",
        "    db = 1/m * np.sum(dZ, axis = 1).reshape(dZ.shape[0], 1)\n",
        "    dA_prev = W.T.dot(dZ)\n",
        "    ### Fim do código ###\n",
        "    \n",
        "    assert (dA_prev.shape == A_prev.shape)\n",
        "    assert (dW.shape == W.shape)\n",
        "    assert (db.shape == b.shape)\n",
        "    \n",
        "    return dA_prev, dW, db"
      ],
      "execution_count": null,
      "outputs": []
    },
    {
      "cell_type": "code",
      "metadata": {
        "id": "T-wWOgAJLflQ",
        "colab": {
          "base_uri": "https://localhost:8080/"
        },
        "outputId": "4512760e-b756-4cb6-d1a3-ff7a4491ef02"
      },
      "source": [
        "# Teste\n",
        "dZ, linear_cache = linear_backward_test_case()\n",
        "\n",
        "dA_prev, dW, db = linear_backward(dZ, linear_cache)\n",
        "\n",
        "print (\"dA_prev = \"+ str(dA_prev))\n",
        "print (\"dW = \" + str(dW))\n",
        "print (\"db = \" + str(db))"
      ],
      "execution_count": null,
      "outputs": [
        {
          "output_type": "stream",
          "name": "stdout",
          "text": [
            "dA_prev = [[-1.15171336  0.06718465 -0.3204696   2.09812712]\n",
            " [ 0.60345879 -3.72508701  5.81700741 -3.84326836]\n",
            " [-0.4319552  -1.30987417  1.72354705  0.05070578]\n",
            " [-0.38981415  0.60811244 -1.25938424  1.47191593]\n",
            " [-2.52214926  2.67882552 -0.67947465  1.48119548]]\n",
            "dW = [[ 0.07313866 -0.0976715  -0.87585828  0.73763362  0.00785716]\n",
            " [ 0.85508818  0.37530413 -0.59912655  0.71278189 -0.58931808]\n",
            " [ 0.97913304 -0.24376494 -0.08839671  0.55151192 -0.10290907]]\n",
            "db = [[-0.14713786]\n",
            " [-0.11313155]\n",
            " [-0.13209101]]\n"
          ]
        }
      ]
    },
    {
      "cell_type": "markdown",
      "metadata": {
        "id": "lOHi3L7mLflT"
      },
      "source": [
        "**Valores Esperados**:\n",
        "    \n",
        "```\n",
        "dA_prev = \n",
        " [[-1.15171336  0.06718465 -0.3204696   2.09812712]\n",
        " [ 0.60345879 -3.72508701  5.81700741 -3.84326836]\n",
        " [-0.4319552  -1.30987417  1.72354705  0.05070578]\n",
        " [-0.38981415  0.60811244 -1.25938424  1.47191593]\n",
        " [-2.52214926  2.67882552 -0.67947465  1.48119548]]\n",
        "dW = \n",
        " [[ 0.07313866 -0.0976715  -0.87585828  0.73763362  0.00785716]\n",
        " [ 0.85508818  0.37530413 -0.59912655  0.71278189 -0.58931808]\n",
        " [ 0.97913304 -0.24376494 -0.08839671  0.55151192 -0.10290907]]\n",
        "db = \n",
        " [[-0.14713786]\n",
        " [-0.11313155]\n",
        " [-0.13209101]]\n",
        "```"
      ]
    },
    {
      "cell_type": "markdown",
      "metadata": {
        "id": "MWYLQFi7LflT"
      },
      "source": [
        "### 6.2 - Linear-Ativação backward\n",
        "\n",
        "A etapa backward para a ativação **`linear_ativacao_backward`**. \n",
        "\n",
        "Use as funções:\n",
        "- **`sigmoid_backward`**: backward propagation para SIGMOID:\n",
        "\n",
        "```python\n",
        "dZ = sigmoid_backward(dA, ativacao_cache)\n",
        "```\n",
        "\n",
        "- **`relu_backward`**: backward propagation para RELU:\n",
        "\n",
        "```python\n",
        "dZ = relu_backward(dA, ativacao_cache)\n",
        "```\n",
        "\n",
        "Se $g(.)$ é a função de ativação, \n",
        "`sigmoid_backward` e `relu_backward` calcula $$dZ^{[l]} = dA^{[l]} * g'(Z^{[l]}) \\tag{11}$$.  \n",
        "\n"
      ]
    },
    {
      "cell_type": "code",
      "metadata": {
        "id": "rlZnbuWnLflU"
      },
      "source": [
        "# linear_ativacao_backward\n",
        "\n",
        "def linear_ativacao_backward(dA, cache, ativacao):\n",
        "    \"\"\"\n",
        "    Implementa a backward propagation para ativação.\n",
        "    \n",
        "    Entradas:\n",
        "    dA -- gradiente da pos-ativacao gradient para camada l \n",
        "    cache -- tupla de valores (linear_cache, ativacao_cache)\n",
        "    ativacao -- \"sigmoid\" or \"relu\"\n",
        "    \n",
        "    Saídas:\n",
        "    dA_prev -- gradiente do custo em relação a ativação da camada l-1,\n",
        "    dW -- gradiente do custo em relação a W  da camada l,\n",
        "    db -- gradiente do custo em relação a b,\n",
        "    \"\"\"\n",
        "    linear_cache, ativacao_cache = cache\n",
        "    \n",
        "    if ativacao == \"relu\":\n",
        "        ### Início do código ### \n",
        "        dZ = relu_backward(dA, ativacao_cache)\n",
        "        dA_prev, dW, db = linear_backward(dZ, linear_cache)\n",
        "        ### Fim do código ###\n",
        "        \n",
        "    elif ativacao == \"sigmoid\":\n",
        "        ### Início do código ### \n",
        "        dZ = sigmoid_backward(dA, ativacao_cache)\n",
        "        dA_prev, dW, db = linear_backward(dZ, linear_cache)\n",
        "        ### Fim do código ###\n",
        "    \n",
        "    return dA_prev, dW, db"
      ],
      "execution_count": null,
      "outputs": []
    },
    {
      "cell_type": "code",
      "metadata": {
        "id": "gG5XV0YHLflZ",
        "colab": {
          "base_uri": "https://localhost:8080/"
        },
        "outputId": "6d66d88d-056a-401d-e838-39f588e44af1"
      },
      "source": [
        "# Teste\n",
        "\n",
        "dAL, linear_ativacao_cache = linear_activation_backward_test_case()\n",
        "dA_prev, dW, db = linear_ativacao_backward(dAL, linear_ativacao_cache, ativacao = \"sigmoid\")\n",
        "print (\"sigmoid:\")\n",
        "print (\"dA_prev = \"+ str(dA_prev))\n",
        "print (\"dW = \" + str(dW))\n",
        "print (\"db = \" + str(db) + \"\\n\")\n",
        "\n",
        "dA_prev, dW, db = linear_ativacao_backward(dAL, linear_ativacao_cache, ativacao = \"relu\")\n",
        "print (\"relu:\")\n",
        "print (\"dA_prev = \"+ str(dA_prev))\n",
        "print (\"dW = \" + str(dW))\n",
        "print (\"db = \" + str(db))"
      ],
      "execution_count": null,
      "outputs": [
        {
          "output_type": "stream",
          "name": "stdout",
          "text": [
            "sigmoid:\n",
            "dA_prev = [[ 0.11017994  0.01105339]\n",
            " [ 0.09466817  0.00949723]\n",
            " [-0.05743092 -0.00576154]]\n",
            "dW = [[ 0.10266786  0.09778551 -0.01968084]]\n",
            "db = [[-0.05729622]]\n",
            "\n",
            "relu:\n",
            "dA_prev = [[ 0.44090989  0.        ]\n",
            " [ 0.37883606  0.        ]\n",
            " [-0.2298228   0.        ]]\n",
            "dW = [[ 0.44513824  0.37371418 -0.10478989]]\n",
            "db = [[-0.20837892]]\n"
          ]
        }
      ]
    },
    {
      "cell_type": "markdown",
      "metadata": {
        "id": "PJWts-SALflc"
      },
      "source": [
        "**Valores esperados com:**\n",
        "\n",
        "<table style=\"width:100%\">\n",
        "  <tr>\n",
        "    <td > dA_prev </td> \n",
        "           <td >[[ 0.11017994  0.01105339]\n",
        " [ 0.09466817  0.00949723]\n",
        " [-0.05743092 -0.00576154]] </td> \n",
        "\n",
        "  </tr> \n",
        "  \n",
        "   <tr>\n",
        "    <td > dW </td> \n",
        "           <td > [[ 0.10266786  0.09778551 -0.01968084]] </td> \n",
        "  </tr> \n",
        "  \n",
        "   <tr>\n",
        "    <td > db </td> \n",
        "           <td > [[-0.05729622]] </td> \n",
        "  </tr> \n",
        "</table>\n",
        "\n"
      ]
    },
    {
      "cell_type": "markdown",
      "metadata": {
        "id": "hUZv2-aPLfld"
      },
      "source": [
        "**Valores esperados com relu:**\n",
        "\n",
        "<table style=\"width:100%\">\n",
        "  <tr>\n",
        "    <td > dA_prev </td> \n",
        "           <td > [[ 0.44090989  0.        ]\n",
        " [ 0.37883606  0.        ]\n",
        " [-0.2298228   0.        ]] </td> \n",
        "\n",
        "  </tr> \n",
        "  \n",
        "   <tr>\n",
        "    <td > dW </td> \n",
        "           <td > [[ 0.44513824  0.37371418 -0.10478989]] </td> \n",
        "  </tr> \n",
        "  \n",
        "   <tr>\n",
        "    <td > db </td> \n",
        "           <td > [[-0.20837892]] </td> \n",
        "  </tr> \n",
        "</table>\n",
        "\n"
      ]
    },
    {
      "cell_type": "markdown",
      "metadata": {
        "id": "d8OsrFC1Lfld"
      },
      "source": [
        "### 6.3 - L-Modelo Backward \n",
        "\n",
        "A Figura mostra a fase backward. \n",
        "\n",
        "\n",
        "![Arq,widht=10](https://drive.google.com/uc?export=view&id=19dmT5_6jwKXm92AjDB0F-Z0VxI-RoQYH)\n",
        "<caption><center>  **Figura 5** : Fase Backward  </center></caption>\n",
        "\n",
        "**Inicializando a fase backpropagation**:\n",
        "A saída da rede é, \n",
        "$A^{[L]} = \\sigma(Z^{[L]})$. Então temos que calcualar `dAL` $= \\frac{\\partial \\mathcal{L}}{\\partial A^{[L]}}$:\n",
        "\n",
        "`dAL`  $=-\\frac{Y}{AL} + \\frac{1-Y}{1-Al}$ \n",
        "\n",
        "\n",
        "O gradiente `dAL` para continuar propagando. Como visto na Figura 5, `dAL` vai alimentar a linear_ativacao_backward com ativação SIGMOID (que utilizará os valores armazenados em cache armazenados pela função L_modelo_forward). Depois disso, você terá que usar um loop `for` para percorrer todas as outras camadas usando linear_ativacao_backward com ativação RELU. Você deve armazenar cada dA, dW e db no dicionário grads.\n"
      ]
    },
    {
      "cell_type": "code",
      "metadata": {
        "id": "QVgJXRPHLfle"
      },
      "source": [
        "# L_modelo_backward\n",
        "\n",
        "def L_modelo_backward(AL, Y, caches):\n",
        "    \"\"\"\n",
        "    Implementa a backward propagation para [LINEAR->RELU] * (L-1) -> LINEAR -> SIGMOID \n",
        "    \n",
        "    \n",
        "    Entradas:\n",
        "    AL -- Probabiliade de predição da rede, saída da fase forward propagation (L_modelo_forward())\n",
        "    Y -- Vetor de rótulos dos exemplos de treinamento  ( 0 se não tem gato, 1 tem gato )\n",
        "    caches -- lista de caches contendo:\n",
        "                todos cache da linear_ativacao_forward() com \"relu\" ( caches[l], l = 0...L-2)\n",
        "                o cache da linear_ativacao_forward() com \"sigmoid\" (caches[L-1])\n",
        "    \n",
        "    Saídas:\n",
        "    grads -- Um dicionário com os gradientes\n",
        "              \n",
        "    \"\"\"\n",
        "    grads = {}\n",
        "    L = len(caches) # número de camadas\n",
        "    m = AL.shape[1] # número de exemplos\n",
        "    \n",
        "    Y = Y.reshape(AL.shape) # Y deve ter o mesmo formato que AL\n",
        "    \n",
        "    # Inicilizando a fase backpropagation\n",
        "    ### Início do código ### \n",
        "    dAL = - Y/AL + (1 - Y)/(1 - AL) # gradiente do custo em relação a AL\n",
        "    ### Fim do código ###\n",
        "    \n",
        "    # gradiente da l-ésima camada (SIGMOID -> LINEAR). \n",
        "    # Entrada: \"dAL, corrente_cache\". Saida: \"d(AL-1), dWL, dbL\"\n",
        "    ### Início do código ### \n",
        "    current_cache = caches[L-1]\n",
        "    grads[\"dA\" + str(L-1)], grads[\"dW\" + str(L)], grads[\"db\" + str(L)] = linear_ativacao_backward(dAL, current_cache, \"sigmoid\")\n",
        "    ### Fim do código ###\n",
        "    \n",
        "    # Gradientes das camadas anterios: (RELU -> LINEAR)\n",
        "    # Entradas: \"dA(l+1), corrente_cache\". \n",
        "    # Saídas: \"dA(l), dW(l+1), db(l+1)\" \n",
        "    ### Início do código ### \n",
        "    # Loop de l=L-2 até l=0\n",
        "    for l in reversed(range(L-1)):\n",
        "      current_cache = caches[l]\n",
        "      dA_prev_temp, dW_temp, db_temp = linear_ativacao_backward(grads[\"dA\" + str(l+1)], current_cache, \"relu\") # dice: ver linear_activation_backward()\n",
        "      grads[\"dA\" + str(l)] = dA_prev_temp\n",
        "      grads[\"dW\" + str(l + 1)] = dW_temp\n",
        "      grads[\"db\" + str(l + 1)] = db_temp\n",
        "    ### Fim do código ###\n",
        "\n",
        "    return grads"
      ],
      "execution_count": null,
      "outputs": []
    },
    {
      "cell_type": "code",
      "metadata": {
        "id": "rjlRs9F0Lflh",
        "colab": {
          "base_uri": "https://localhost:8080/"
        },
        "outputId": "944d7aca-6aa8-4a04-860a-b68f21ebf3fc"
      },
      "source": [
        "AL, Y_teste, caches = L_model_backward_test_case()\n",
        "\n",
        "grads = L_modelo_backward(AL, Y_teste, caches)\n",
        "print_grads(grads)"
      ],
      "execution_count": null,
      "outputs": [
        {
          "output_type": "stream",
          "name": "stdout",
          "text": [
            "dW1 = [[0.41010002 0.07807203 0.13798444 0.10502167]\n",
            " [0.         0.         0.         0.        ]\n",
            " [0.05283652 0.01005865 0.01777766 0.0135308 ]]\n",
            "db1 = [[-0.22007063]\n",
            " [ 0.        ]\n",
            " [-0.02835349]]\n",
            "dA1 = [[ 0.12913162 -0.44014127]\n",
            " [-0.14175655  0.48317296]\n",
            " [ 0.01663708 -0.05670698]]\n"
          ]
        }
      ]
    },
    {
      "cell_type": "markdown",
      "metadata": {
        "id": "eA-YLjT7Lflj"
      },
      "source": [
        "**Valores esperados**\n",
        "\n",
        "<table style=\"width:60%\">\n",
        "  \n",
        "  <tr>\n",
        "    <td > dW1 </td> \n",
        "           <td > [[ 0.41010002  0.07807203  0.13798444  0.10502167]\n",
        " [ 0.          0.          0.          0.        ]\n",
        " [ 0.05283652  0.01005865  0.01777766  0.0135308 ]] </td> \n",
        "  </tr> \n",
        "  \n",
        "   <tr>\n",
        "    <td > db1 </td> \n",
        "           <td > [[-0.22007063]\n",
        " [ 0.        ]\n",
        " [-0.02835349]] </td> \n",
        "  </tr> \n",
        "  \n",
        "  <tr>\n",
        "  <td > dA1 </td> \n",
        "           <td > [[ 0.12913162 -0.44014127]\n",
        " [-0.14175655  0.48317296]\n",
        " [ 0.01663708 -0.05670698]] </td> \n",
        "\n",
        "  </tr> \n",
        "</table>\n",
        "\n"
      ]
    },
    {
      "cell_type": "markdown",
      "metadata": {
        "id": "qvZW8iNXLflk"
      },
      "source": [
        "### 6.4 - Atualização dos parâmetros\n",
        "\n",
        "Usando gradiente descendente: \n",
        "\n",
        "$$ W^{[l]} = W^{[l]} - \\alpha \\text{ } dW^{[l]} \\tag{16}$$\n",
        "$$ b^{[l]} = b^{[l]} - \\alpha \\text{ } db^{[l]} \\tag{17}$$\n",
        "\n",
        "onde $\\alpha$ é a taxa de aprendizagem."
      ]
    },
    {
      "cell_type": "markdown",
      "metadata": {
        "id": "LS1_5sdXLflk"
      },
      "source": [
        "**Instruções**:\n",
        "Atualização dos parâmetros usando gradiente descendente: $W^{[l]}$ and $b^{[l]}$ para $l = 1, 2, ..., L$. \n"
      ]
    },
    {
      "cell_type": "code",
      "metadata": {
        "id": "IwPZN1oQLfll"
      },
      "source": [
        "# atualize_parametros\n",
        "\n",
        "def atualize_parametros(parametros, grads, learning_rate):\n",
        "    \"\"\"\n",
        "    Atualização dos parâmetros usando gradiente descendente:\n",
        "    \n",
        "    Entradas:\n",
        "    parametros -- python dicionario contendo os parametros \n",
        "    grads -- python dicionario contendo os gradientes, saída L_modelo_backward\n",
        "    \n",
        "    Saídas:\n",
        "    parametros -- python dicionario contendo os parametros \n",
        "                \n",
        "    \"\"\"\n",
        "    \n",
        "    L = int(len(parametros)/2)  # número de camadas da rede\n",
        "\n",
        "    # Atualiza os parametros.\n",
        "    ### Início do código ###\n",
        "    for l in range(L):\n",
        "        parametros[\"W\" + str(l+1)] -= learning_rate* grads[\"dW\" + str(l+1)]\n",
        "        parametros[\"b\" + str(l+1)] -= learning_rate* grads[\"db\"+ str(l+1)]\n",
        "    ### Fim do código ###\n",
        "    return parametros"
      ],
      "execution_count": null,
      "outputs": []
    },
    {
      "cell_type": "code",
      "metadata": {
        "id": "wzlnOk-6Lflo",
        "colab": {
          "base_uri": "https://localhost:8080/"
        },
        "outputId": "ef1a4998-121e-48b6-922c-d15682a2e8d5"
      },
      "source": [
        "parametros, grads = update_parameters_test_case()\n",
        "parametros = atualize_parametros(parametros, grads, 0.1)\n",
        "\n",
        "print (\"W1 = \"+ str(parametros[\"W1\"]))\n",
        "print (\"b1 = \"+ str(parametros[\"b1\"]))\n",
        "print (\"W2 = \"+ str(parametros[\"W2\"]))\n",
        "print (\"b2 = \"+ str(parametros[\"b2\"]))"
      ],
      "execution_count": null,
      "outputs": [
        {
          "output_type": "stream",
          "name": "stdout",
          "text": [
            "W1 = [[-0.59562069 -0.09991781 -2.14584584  1.82662008]\n",
            " [-1.76569676 -0.80627147  0.51115557 -1.18258802]\n",
            " [-1.0535704  -0.86128581  0.68284052  2.20374577]]\n",
            "b1 = [[-0.04659241]\n",
            " [-1.28888275]\n",
            " [ 0.53405496]]\n",
            "W2 = [[-0.55569196  0.0354055   1.32964895]]\n",
            "b2 = [[-0.84610769]]\n"
          ]
        }
      ]
    },
    {
      "cell_type": "markdown",
      "metadata": {
        "id": "yYpdW4jtLflr"
      },
      "source": [
        "**Valores esperados**:\n",
        "\n",
        "<table style=\"width:100%\"> \n",
        "    <tr>\n",
        "    <td > W1 </td> \n",
        "           <td > [[-0.59562069 -0.09991781 -2.14584584  1.82662008]\n",
        " [-1.76569676 -0.80627147  0.51115557 -1.18258802]\n",
        " [-1.0535704  -0.86128581  0.68284052  2.20374577]] </td> \n",
        "  </tr> \n",
        "  \n",
        "   <tr>\n",
        "    <td > b1 </td> \n",
        "           <td > [[-0.04659241]\n",
        " [-1.28888275]\n",
        " [ 0.53405496]] </td> \n",
        "  </tr> \n",
        "  <tr>\n",
        "    <td > W2 </td> \n",
        "           <td > [[-0.55569196  0.0354055   1.32964895]]</td> \n",
        "  </tr> \n",
        "  \n",
        "   <tr>\n",
        "    <td > b2 </td> \n",
        "           <td > [[-0.84610769]] </td> \n",
        "  </tr> \n",
        "</table>\n"
      ]
    },
    {
      "cell_type": "markdown",
      "metadata": {
        "id": "zNAdvsTALfls"
      },
      "source": [
        "## 7 - Construa o modelo (2pt)\n"
      ]
    },
    {
      "cell_type": "markdown",
      "source": [
        "Implemente o modelo usando as funções anteriores para treinar os parâmetros da rede no conjunto de dados."
      ],
      "metadata": {
        "id": "LSxQEG3BPl_5"
      }
    },
    {
      "cell_type": "code",
      "metadata": {
        "id": "QEf7wROhLflu"
      },
      "source": [
        "# L_layer_modelo\n",
        "\n",
        "def L_layer_modelo(X, Y, camada_dims, learning_rate = 0.0075, num_iter = 3000, print_custo=False):\n",
        "    \"\"\"\n",
        "    Implementa a uma rede neural com L-camadas: [LINEAR->RELU]*(L-1)->LINEAR->SIGMOID.\n",
        "    \n",
        "    Entradas:\n",
        "    X -- conjunto de treinamento representado por uma matriz numpy da forma (num_px * num_px * 3, numero de exemplos)\n",
        "    Y -- rótulos de treinamento representados por uma matriz numpy (vetor) da forma (1, numero de exemplos)\n",
        "    camadas_dims -- lista contendo a dimensão dos dados de entrada e tamanho de cada camada da rede, (numero de camadas + 1).\n",
        "    learning_rate -- lhiperparâmetro que representa a taxa de aprendizado usada na regra de atualização do gradiente descendete\n",
        "    num_iter -- hiperparâmetro que representa o número de iterações para otimizar os parâmetros\n",
        "    print_custo -- imprime o custo a cada 100 iterações\n",
        "    \n",
        "    Saida:\n",
        "    parametros -- parametros aprendidos do modelo.\n",
        "    \"\"\"\n",
        "\n",
        "    np.random.seed(1)\n",
        "    custos = []                         # guarda o custo\n",
        "    \n",
        "    # Inicialização dos parametros\n",
        "    ### Início do código ###\n",
        "    parameters = inicialize_parametros(camada_dims) # dica : ver sua função de inicializacao\n",
        "    ### Fim do código ###\n",
        "    \n",
        "    # Gradiente descendente. Dica : use as funções que você escreveu acima\n",
        "    for i in range(0, num_iter):\n",
        "\n",
        "        # Fase Forward propagation: [LINEAR -> RELU]*(L-1) -> LINEAR -> SIGMOID.\n",
        "        ### Início do código ###\n",
        "        AL, caches = L_modelo_forward(X, parameters)\n",
        "        ### Fim do código ###\n",
        "        \n",
        "        # Calculo do Custo.\n",
        "        ### Início do código ###\n",
        "        cost = custo(AL, Y,  m = Y.shape[1])\n",
        "        ### Fim do código ###\n",
        "    \n",
        "        # Fase Backward propagation.\n",
        "        ### Início do código ###\n",
        "        grads = L_modelo_backward(AL, Y, caches)\n",
        "        ### Fim do código ###\n",
        " \n",
        "        # Atualização dos parametros.\n",
        "        ### Início do código ###\n",
        "        parameters = atualize_parametros(parameters, grads, learning_rate)\n",
        "        ### Fim do código ###\n",
        "                \n",
        "        # Imprime o custo cada 100 iterações\n",
        "        if print_custo and i % 100 == 0:\n",
        "            print (\"Custo depois da iteração %i: %f\" %(i, cost))\n",
        "        if print_custo and i % 100 == 0:\n",
        "            custos.append(cost)\n",
        "            \n",
        "    # plot the cost\n",
        "    plt.plot(np.squeeze(custos))\n",
        "    plt.ylabel('custo')\n",
        "    plt.xlabel('iterações (por centenas)')\n",
        "    plt.title(\"Taxa de aprendizagem =\" + str(learning_rate))\n",
        "    plt.show()\n",
        "    \n",
        "    return parameters"
      ],
      "execution_count": null,
      "outputs": []
    },
    {
      "cell_type": "markdown",
      "metadata": {
        "id": "hwJRf0vlLflx"
      },
      "source": [
        "## 8- Pronto! (1pt)\n"
      ]
    },
    {
      "cell_type": "markdown",
      "source": [
        "# Parte 2 - Treino e teste MLP"
      ],
      "metadata": {
        "id": "kpV8TFpQ0UGp"
      }
    },
    {
      "cell_type": "markdown",
      "source": [
        "\n",
        "### Pre-processamento dos dados\n",
        "\n",
        "Vamos construir o modelo para treinar um classificador de imagens (o mesmo da regressão logística)"
      ],
      "metadata": {
        "id": "ANAc11_zPo_-"
      }
    },
    {
      "cell_type": "code",
      "metadata": {
        "id": "_YUqWglPXDq8"
      },
      "source": [
        "# Lendo os dados (gato/não-gato)\n",
        "def load_dataset():\n",
        "\n",
        "  train_dataset = h5py.File('/content/drive/MyDrive/disciplinasDoutorado/PCC177-2022-1(Redes)/lab3/train_catvnoncat.h5', \"r\")\n",
        "  train_set_x_orig = np.array(train_dataset[\"train_set_x\"][:]) # your train set features\n",
        "  train_set_y_orig = np.array(train_dataset[\"train_set_y\"][:]) # your train set labels\n",
        "\n",
        "  test_dataset = h5py.File('/content/drive/MyDrive/disciplinasDoutorado/PCC177-2022-1(Redes)/lab3/test_catvnoncat.h5', \"r\")\n",
        "  test_set_x_orig = np.array(test_dataset[\"test_set_x\"][:]) # your test set features\n",
        "  test_set_y_orig = np.array(test_dataset[\"test_set_y\"][:]) # your test set labels\n",
        "\n",
        "  classes = np.array(test_dataset[\"list_classes\"][:]) # the list of classes\n",
        "  train_set_y_orig = train_set_y_orig.reshape((1, train_set_y_orig.shape[0]))\n",
        "  test_set_y_orig = test_set_y_orig.reshape((1, test_set_y_orig.shape[0]))\n",
        "  \n",
        "  return train_set_x_orig, train_set_y_orig, test_set_x_orig, test_set_y_orig, classes"
      ],
      "execution_count": null,
      "outputs": []
    },
    {
      "cell_type": "code",
      "metadata": {
        "id": "-d2fWOiJLfly"
      },
      "source": [
        "# Lendo os dados (gato/não-gato)\n",
        "treino_x_orig, treino_y, teste_x_orig, teste_y, classes = load_dataset()"
      ],
      "execution_count": null,
      "outputs": []
    },
    {
      "cell_type": "markdown",
      "metadata": {
        "id": "nNsogn4bLfl1"
      },
      "source": [
        "Pre-processamento necessário.\n",
        "\n",
        "![Arq,widht=10](https://drive.google.com/uc?export=view&id=1zCnEB2rwc4lXU_7RTS4TXhqCwsJubg7H)\n",
        "\n",
        "<caption><center> <u>Figura 6</u>: Vetorização de uma imagem. <br> </center></caption>"
      ]
    },
    {
      "cell_type": "code",
      "metadata": {
        "id": "RcIv5zX9Lfl1",
        "colab": {
          "base_uri": "https://localhost:8080/"
        },
        "outputId": "47c52d91-6661-43f5-dffa-5b953f935fa6"
      },
      "source": [
        "\n",
        "m_treino = len(treino_x_orig)\n",
        "m_teste = len(teste_x_orig)\n",
        "num_px = teste_x_orig[1].shape[1]\n",
        "\n",
        "#  Vetorizando as imagens de treinamento e teste \n",
        "\n",
        "### Início do código ###\n",
        "treino_x_vet = treino_x_orig.reshape(m_treino, num_px*num_px*3)  # dica : utilize reshape para mudar o formato dos dados\n",
        "teste_x_vet = teste_x_orig.reshape(m_teste, num_px*num_px*3)   # dica : utilize reshape para mudar o formato dos dados\n",
        "treino_x = treino_x_vet.T\n",
        "teste_x = teste_x_vet.T\n",
        "### Fim do código ###\n",
        "\n",
        "### Início do código ###\n",
        "# Normalize os dados para ter valores de recurso entre 0 e 1.\n",
        "treino_x = treino_x/255\n",
        "teste_x = teste_x/255\n",
        "### Fim do código ###\n",
        "\n",
        "treino_x.shape, treino_y.shape, teste_x.shape, teste_y.shape"
      ],
      "execution_count": null,
      "outputs": [
        {
          "output_type": "execute_result",
          "data": {
            "text/plain": [
              "((12288, 209), (1, 209), (12288, 50), (1, 50))"
            ]
          },
          "metadata": {},
          "execution_count": 7
        }
      ]
    },
    {
      "cell_type": "markdown",
      "metadata": {
        "id": "DOzgbH4-Lfl3"
      },
      "source": [
        "\n",
        "### Testando com rede neural com 2 camadas\n",
        "\n",
        "![Arq,widht=10](https://drive.google.com/uc?export=view&id=19mux_FFpeZkj5YiV51bNE2CK3i2nBSau)\n",
        "<caption><center> <u>Figura 7</u>: Rede neural com 2 camadas. <br> Resumo do modelo: ***ENTRADA -> LINEAR -> RELU -> LINEAR -> SIGMOID -> SAIDA***. </center></caption>\n",
        "\n",
        "<!--\n",
        "<u>Detailed Architecture of figure 2</u>:\n",
        "- The input is a (64,64,3) image which is flattened to a vector of size $(12288,1)$. \n",
        "- The corresponding vector: $[x_0,x_1,...,x_{12287}]^T$ is then multiplied by the weight matrix $W^{[1]}$ of size $(n^{[1]}, 12288)$.\n",
        "- You then add a bias term and take its relu to get the following vector: $[a_0^{[1]}, a_1^{[1]},..., a_{n^{[1]}-1}^{[1]}]^T$.\n",
        "- You then repeat the same process.\n",
        "- You multiply the resulting vector by $W^{[2]}$ and add your intercept (bias). \n",
        "- Finally, you take the sigmoid of the result. If it is greater than 0.5, you classify it to be a cat.\n",
        "!-->"
      ]
    },
    {
      "cell_type": "code",
      "metadata": {
        "id": "LKd_8OcsLfl4"
      },
      "source": [
        "### Executar uma rede de 2 camada ###\n",
        "camadas_dims = [12288, 7, 1] \n",
        " "
      ],
      "execution_count": null,
      "outputs": []
    },
    {
      "cell_type": "code",
      "metadata": {
        "id": "W1UpnIDtLfl7",
        "colab": {
          "base_uri": "https://localhost:8080/",
          "height": 739
        },
        "outputId": "f8478f6e-c89d-4e82-8ec3-41a14b408dcd"
      },
      "source": [
        "## Treine a rede\n",
        "parametros = L_layer_modelo(treino_x, treino_y, camadas_dims, num_iter = 2500, print_custo=True)"
      ],
      "execution_count": null,
      "outputs": [
        {
          "output_type": "stream",
          "name": "stdout",
          "text": [
            "Custo depois da iteração 0: 0.692380\n",
            "Custo depois da iteração 100: 0.646159\n",
            "Custo depois da iteração 200: 0.631775\n",
            "Custo depois da iteração 300: 0.600091\n",
            "Custo depois da iteração 400: 0.559427\n",
            "Custo depois da iteração 500: 0.512988\n",
            "Custo depois da iteração 600: 0.454815\n",
            "Custo depois da iteração 700: 0.399388\n",
            "Custo depois da iteração 800: 0.420515\n",
            "Custo depois da iteração 900: 0.369184\n",
            "Custo depois da iteração 1000: 0.362393\n",
            "Custo depois da iteração 1100: 0.341366\n",
            "Custo depois da iteração 1200: 0.333344\n",
            "Custo depois da iteração 1300: 0.263797\n",
            "Custo depois da iteração 1400: 0.164805\n",
            "Custo depois da iteração 1500: 0.143608\n",
            "Custo depois da iteração 1600: 0.124467\n",
            "Custo depois da iteração 1700: 0.706752\n",
            "Custo depois da iteração 1800: 0.092394\n",
            "Custo depois da iteração 1900: 0.078572\n",
            "Custo depois da iteração 2000: 0.068092\n",
            "Custo depois da iteração 2100: 0.059649\n",
            "Custo depois da iteração 2200: 0.052619\n",
            "Custo depois da iteração 2300: 0.046817\n",
            "Custo depois da iteração 2400: 0.041928\n"
          ]
        },
        {
          "output_type": "display_data",
          "data": {
            "text/plain": [
              "<Figure size 360x288 with 1 Axes>"
            ],
            "image/png": "[encoded data removed]"
          },
          "metadata": {
            "needs_background": "light"
          }
        }
      ]
    },
    {
      "cell_type": "markdown",
      "metadata": {
        "id": "yL39tGwTLfl9"
      },
      "source": [
        "**Use os parâmetros treinados** para classificar as imagens de treinamento e teste e verificar a acurácia. "
      ]
    },
    {
      "cell_type": "code",
      "metadata": {
        "id": "MEehDg8DLfl_"
      },
      "source": [
        "## Predição da rede\n",
        "# dica : re-utilize e modifique a FUNCAO de predição do Lab1B\n",
        "# GRADED FUNCTION: predição\n",
        "\n",
        "def predicao(X, Y, parametros):\n",
        "    '''\n",
        "    Prediz se o rótulo é 0 ou 1 usando os parâmetros de aprendizagem (w,b) da regressão logística\n",
        "    \n",
        "    Entrada:\n",
        "    X -- dados de treinamentos de tamanho (num_px * num_px * 3, número de exemplos)\n",
        "    parametros -- dicionários de parâmetros da rede treinada\n",
        "    Saída:\n",
        "        Y_pred -- valores da pós-ativação da última camada em que (ativação_AL) > 0.5 é 1, e ativação_AL <=0.5 é 0)\n",
        "    '''\n",
        "    \n",
        "    #ToDo : implemente a função\n",
        "    AL, caches = L_modelo_forward(X, parametros)\n",
        "\n",
        "    # Imprime o custo da execução:\n",
        "    print(\"Custo da execução:{} %\".format(custo(AL, Y,  m = Y.shape[1])))\n",
        "     \n",
        "    m = X.shape[1]       # número de exemplos. Dica: acesso o shape de X e veja qual valor adequado \n",
        "    \n",
        "    # Converta as proobabilidades AL[0,i] para predição p[0,i]\n",
        "    Y_pred = np.zeros((AL.shape))\n",
        "    positive_pred_index = AL > 0.5\n",
        "    Y_pred[positive_pred_index] =  1    \n",
        "    ### Fim do código ###       \n",
        "   \n",
        "    assert(Y_pred.shape == (1, m))\n",
        "    return Y_pred\n",
        "\n"
      ],
      "execution_count": null,
      "outputs": []
    },
    {
      "cell_type": "code",
      "source": [
        "# (Daniela) Análise dos resultados do modelo:\n",
        "from sklearn.metrics import confusion_matrix, ConfusionMatrixDisplay\n",
        "\n",
        "# Predições do modelo:\n",
        "Y_pred_treino = predicao(treino_x, treino_y, parametros)\n",
        "Y_pred_teste = predicao(teste_x, teste_y, parametros)\n",
        "\n",
        "# Imprime erros do treino/teste \n",
        "print(\"treino acurácia:{} %\".format(100 - np.mean(np.abs(Y_pred_treino - treino_y)) * 100))\n",
        "print(\"teste acurácia: {} %\".format(100 - np.mean(np.abs(Y_pred_teste - teste_y)) * 100))\n",
        "\n",
        "# Exibe matrizes de confusão para dados de treino e teste:\n",
        "cm = confusion_matrix(treino_y[0][:], Y_pred_treino[0][:], labels=[0, 1])\n",
        "disp_treino = ConfusionMatrixDisplay(confusion_matrix=cm, display_labels=[\"non cat\", \"cat\"])\n",
        " \n",
        "cm = confusion_matrix(teste_y[0][:], Y_pred_teste[0][:], labels=[0, 1])\n",
        "disp_teste = ConfusionMatrixDisplay(confusion_matrix=cm, display_labels=[\"non cat\", \"cat\"])\n",
        "\n",
        "plt.figure(figsize=(4, 2)) \n",
        "disp_treino.plot()\n",
        "plt.title(\"Treinamento: Cat vs Non-cat)\")\n",
        "disp_teste.plot()\n",
        "plt.title(\"Teste: Cat vs Non-cat)\")\n",
        "plt.show()\n",
        "plt.tight_layout()  "
      ],
      "metadata": {
        "colab": {
          "base_uri": "https://localhost:8080/",
          "height": 680
        },
        "id": "OjoUqH2yWp3R",
        "outputId": "60ee76d6-38ec-4446-9939-805a8d34cbcb"
      },
      "execution_count": null,
      "outputs": [
        {
          "output_type": "stream",
          "name": "stdout",
          "text": [
            "Custo da execução:0.037764358556315575 %\n",
            "Custo da execução:1.068635920880008 %\n",
            "treino acurácia:100.0 %\n",
            "teste acurácia: 72.0 %\n"
          ]
        },
        {
          "output_type": "display_data",
          "data": {
            "text/plain": [
              "<Figure size 288x144 with 0 Axes>"
            ]
          },
          "metadata": {}
        },
        {
          "output_type": "display_data",
          "data": {
            "text/plain": [
              "<Figure size 360x288 with 2 Axes>"
            ],
            "image/png": "[encoded data removed]"
          },
          "metadata": {
            "needs_background": "light"
          }
        },
        {
          "output_type": "display_data",
          "data": {
            "text/plain": [
              "<Figure size 360x288 with 2 Axes>"
            ],
            "image/png": "[encoded data removed]"
          },
          "metadata": {
            "needs_background": "light"
          }
        },
        {
          "output_type": "display_data",
          "data": {
            "text/plain": [
              "<Figure size 360x288 with 0 Axes>"
            ]
          },
          "metadata": {}
        }
      ]
    },
    {
      "cell_type": "markdown",
      "metadata": {
        "id": "otlPGXyzBRuP"
      },
      "source": [
        "Resultado esperado:\n",
        "\n",
        "Acurácia treino = 100%\n",
        "\n",
        "Acurácia teste = 72%\n",
        "\n",
        "Por que você obteve 100% no treino e apenas 72% no teste?\n",
        "\n",
        "Resposta: houve um sobreajuste dos parâmetros da rede para o conjunto dos dados de treino. Nesse caso, o sobreajuste ocorreu uma vez que o conjunto de dados de treino é relativamente pequeno, e o modelo relativamente simples, assim o número de iterações de treinamento causou perfeito ajuste dos rótulos de treino às imagens de treino. Tudo permanecendo igual, se aumentarmos o conjunto de dados de treino podemos reduzir o overfiting.\n"
      ]
    },
    {
      "cell_type": "markdown",
      "metadata": {
        "id": "4FN1QQO4LfmB"
      },
      "source": [
        "### Testando com uma rede com 4 camadas\n",
        "\n",
        "![Arq,widht=10](https://drive.google.com/uc?export=view&id=19h9LuWkWLVMYgAAoQKTfjJ-Er-tlw8En)\n",
        "<caption><center> <u>Figura 8</u>: Rede neural com L camadas. <br> Resumo do modelo: ***ENTRADA -> LINEAR -> RELU -> LINEAR -> SIGMOID -> SAIDA***. </center></caption>"
      ]
    },
    {
      "cell_type": "code",
      "metadata": {
        "id": "AyZpNGpcLfmC"
      },
      "source": [
        "### Executar uma rede de 4 camada ###\n",
        "camadas_dims = [12288, 20, 7, 5, 1]\n"
      ],
      "execution_count": null,
      "outputs": []
    },
    {
      "cell_type": "code",
      "metadata": {
        "id": "B5aA5aR1LfmF",
        "colab": {
          "base_uri": "https://localhost:8080/",
          "height": 739
        },
        "outputId": "46931e68-a6d4-4911-f63e-c966c23693db"
      },
      "source": [
        "## Treine a rede\n",
        "parametros = L_layer_modelo(treino_x, treino_y, camadas_dims, num_iter = 2500, print_custo=True)"
      ],
      "execution_count": null,
      "outputs": [
        {
          "output_type": "stream",
          "name": "stdout",
          "text": [
            "Custo depois da iteração 0: 0.693148\n",
            "Custo depois da iteração 100: 0.678011\n",
            "Custo depois da iteração 200: 0.667600\n",
            "Custo depois da iteração 300: 0.660422\n",
            "Custo depois da iteração 400: 0.655458\n",
            "Custo depois da iteração 500: 0.652013\n",
            "Custo depois da iteração 600: 0.649616\n",
            "Custo depois da iteração 700: 0.647942\n",
            "Custo depois da iteração 800: 0.646770\n",
            "Custo depois da iteração 900: 0.645947\n",
            "Custo depois da iteração 1000: 0.645368\n",
            "Custo depois da iteração 1100: 0.644961\n",
            "Custo depois da iteração 1200: 0.644673\n",
            "Custo depois da iteração 1300: 0.644469\n",
            "Custo depois da iteração 1400: 0.644325\n",
            "Custo depois da iteração 1500: 0.644223\n",
            "Custo depois da iteração 1600: 0.644151\n",
            "Custo depois da iteração 1700: 0.644100\n",
            "Custo depois da iteração 1800: 0.644063\n",
            "Custo depois da iteração 1900: 0.644037\n",
            "Custo depois da iteração 2000: 0.644019\n",
            "Custo depois da iteração 2100: 0.644006\n",
            "Custo depois da iteração 2200: 0.643997\n",
            "Custo depois da iteração 2300: 0.643990\n",
            "Custo depois da iteração 2400: 0.643985\n"
          ]
        },
        {
          "output_type": "display_data",
          "data": {
            "text/plain": [
              "<Figure size 360x288 with 1 Axes>"
            ],
            "image/png": "[encoded data removed]"
          },
          "metadata": {
            "needs_background": "light"
          }
        }
      ]
    },
    {
      "cell_type": "markdown",
      "metadata": {
        "id": "lVRI71VlLfmI"
      },
      "source": [
        "**Use os parâmetros treinados** para classificar as imagens de treinamento e teste e verificar a acurácia. "
      ]
    },
    {
      "cell_type": "code",
      "metadata": {
        "id": "bf8WzSsULfmI",
        "colab": {
          "base_uri": "https://localhost:8080/",
          "height": 680
        },
        "outputId": "498e210a-9011-4168-ee90-03482b3040ce"
      },
      "source": [
        "# dica : re-utilize e modifique a FUNCAO de predição do Lab1B\n",
        " \n",
        "# Predições do modelo:\n",
        "Y_pred_treino = predicao(treino_x, treino_y, parametros)\n",
        "Y_pred_teste = predicao(teste_x, teste_y, parametros)\n",
        "\n",
        "# Imprime erros do treino/teste \n",
        "print(\"treino acurácia:{} %\".format(100 - np.mean(np.abs(Y_pred_treino - treino_y)) * 100))\n",
        "print(\"teste acurácia: {} %\".format(100 - np.mean(np.abs(Y_pred_teste - teste_y)) * 100))\n",
        "\n",
        "# Exibe matrizes de confusão para dados de treino e teste:\n",
        "cm = confusion_matrix(treino_y[0][:], Y_pred_treino[0][:], labels=[0, 1])\n",
        "disp_treino = ConfusionMatrixDisplay(confusion_matrix=cm, display_labels=[\"non cat\", \"cat\"])\n",
        " \n",
        "cm = confusion_matrix(teste_y[0][:], Y_pred_teste[0][:], labels=[0, 1])\n",
        "disp_teste = ConfusionMatrixDisplay(confusion_matrix=cm, display_labels=[\"non cat\", \"cat\"])\n",
        "\n",
        "plt.figure(figsize=(4, 2)) \n",
        "disp_treino.plot()\n",
        "plt.title(\"Treinamento: Cat vs Non-cat)\")\n",
        "disp_teste.plot()\n",
        "plt.title(\"Teste: Cat vs Non-cat)\")\n",
        "plt.show()\n",
        "plt.tight_layout()  \n",
        "\n",
        "# dica2: compute a matirz de confusão"
      ],
      "execution_count": null,
      "outputs": [
        {
          "output_type": "stream",
          "name": "stdout",
          "text": [
            "Custo da execução:0.6439820182481262 %\n",
            "Custo da execução:0.8442483661831203 %\n",
            "treino acurácia:65.55023923444976 %\n",
            "teste acurácia: 34.0 %\n"
          ]
        },
        {
          "output_type": "display_data",
          "data": {
            "text/plain": [
              "<Figure size 288x144 with 0 Axes>"
            ]
          },
          "metadata": {}
        },
        {
          "output_type": "display_data",
          "data": {
            "text/plain": [
              "<Figure size 360x288 with 2 Axes>"
            ],
            "image/png": "[encoded data removed]"
          },
          "metadata": {
            "needs_background": "light"
          }
        },
        {
          "output_type": "display_data",
          "data": {
            "text/plain": [
              "<Figure size 360x288 with 2 Axes>"
            ],
            "image/png": "[encoded data removed]"
          },
          "metadata": {
            "needs_background": "light"
          }
        },
        {
          "output_type": "display_data",
          "data": {
            "text/plain": [
              "<Figure size 360x288 with 0 Axes>"
            ]
          },
          "metadata": {}
        }
      ]
    },
    {
      "cell_type": "markdown",
      "metadata": {
        "id": "2Qg857Y9-Z7W"
      },
      "source": [
        "Resultado esperado:\n",
        "\n",
        "Acurácia no treino: 0.6555023923444976 \n",
        "\n",
        "Acurácia no teste: 0.34\n",
        "\n",
        "Este resultado foi melhor ou pior do que com duas camadas? Tente explicar os motivos.\n",
        "\n",
        "Resposta: esse resultado foi pior, dessa vez ocorreu 'underfiting'. A curva e os custos exibidos demonstram que o modelo convergiu muito pouco em 2500 iterações. Para essa rede mais complexa, com mais parâmetros (pesos, bias, etc) são necessários mais dados (/mais iterações) para treinar o modelo. Além disso o modelo ficou propenso a classificar todo exemplar como um 'não gato' uma vez que os dados de treino estão desbalanceados para o número de classes(72 cat e 137 non-cat). "
      ]
    },
    {
      "cell_type": "markdown",
      "metadata": {
        "id": "luBAEzfiS7x8"
      },
      "source": [
        "# **Parte 2** - Classificação de múltiplas classes e uso de frameworks\n",
        "\n"
      ]
    },
    {
      "cell_type": "markdown",
      "source": [
        "No exemplo anterior, usamos uma arquitetura para classificação binária. Para classificaçõ de múltiplas classes, tem-se um neurônio de saída para cada classe (como ilustrado no exemplo da Figura 9) e deve-se usar a operação Softmax antes de se calcular o custo (entropia cruzada ou cross-entropy como no exemplo anterior). Consute o capítulo [3.6 do livro](http://d2l.ai/chapter_linear-networks/softmax-regression-scratch.html) para entender melhor.  No caso de se usar softmax, deve-se usar a função *one_hot* para transformar a saída em logits. Veja a função *one_hot* fornecida. Ela transforma um escalar em um *hot encoder*, de acordo com o número de classes.\n",
        "\n",
        "![Arq,widht=10](https://drive.google.com/uc?export=view&id=1WV_4AT49bYcqsp6PB0FoO4p-gASo0bjL)<caption><center> <u>Figura 9</u>: Rede neural dois neurônios de saída. <br> </center></caption>\n",
        "\n",
        "\n"
      ],
      "metadata": {
        "id": "uOdSWNaHRnKn"
      }
    },
    {
      "cell_type": "code",
      "metadata": {
        "id": "KcJ7w8v1WBUx"
      },
      "source": [
        "# nclasses : numero de classes do prolema, y : um escalar ou vetor de escalares\n",
        "def one_hot(n_classes, y):\n",
        "    return np.eye(n_classes)[y]"
      ],
      "execution_count": null,
      "outputs": []
    },
    {
      "cell_type": "code",
      "metadata": {
        "id": "fcMQfNh4WEKO",
        "colab": {
          "base_uri": "https://localhost:8080/"
        },
        "outputId": "5445e1a3-df2a-4a92-8330-65ac330356f6"
      },
      "source": [
        "# ToDo : execute o exemplo e veja o resultado para 4 escalares no vetor de variáveis dependentes\n",
        "one_hot(n_classes=10, y=[0, 4, 9, 1])"
      ],
      "execution_count": null,
      "outputs": [
        {
          "output_type": "execute_result",
          "data": {
            "text/plain": [
              "array([[1., 0., 0., 0., 0., 0., 0., 0., 0., 0.],\n",
              "       [0., 0., 0., 0., 1., 0., 0., 0., 0., 0.],\n",
              "       [0., 0., 0., 0., 0., 0., 0., 0., 0., 1.],\n",
              "       [0., 1., 0., 0., 0., 0., 0., 0., 0., 0.]])"
            ]
          },
          "metadata": {},
          "execution_count": 36
        }
      ]
    },
    {
      "cell_type": "markdown",
      "metadata": {
        "id": "54dwXMXHWTCt"
      },
      "source": [
        "### Função softmax \n",
        "\n",
        "A função softmax transforma a saĩda em uma distribuição de probabilidades. Assim, a soma de todas as saídas dos neurônio da última camada sempre vai ser igual a 1:\n",
        "\n",
        "$$\n",
        "softmax(\\mathbf{x}) = \\frac{1}{\\sum_{i=1}^{n}{e^{x_i}}}\n",
        "\\cdot\n",
        "\\begin{bmatrix}\n",
        "  e^{x_1}\\\\\\\\\n",
        "  e^{x_2}\\\\\\\\\n",
        "  \\vdots\\\\\\\\\n",
        "  e^{x_n}\n",
        "\\end{bmatrix}\n",
        "$$\n",
        "\n",
        "o gradiente para o custo usando-se a função softmax é trivial de se calcular:\n",
        "\n",
        "$$dw = softmax(\\mathbf{y_{pred}}) - y$$"
      ]
    },
    {
      "cell_type": "code",
      "metadata": {
        "id": "6XKZaXQUWXTE"
      },
      "source": [
        "def softmax(X):\n",
        "    exp = np.exp(X)\n",
        "    return exp / np.sum(exp, axis=-1, keepdims=True)"
      ],
      "execution_count": null,
      "outputs": []
    },
    {
      "cell_type": "code",
      "metadata": {
        "id": "ovN7neApWfel",
        "colab": {
          "base_uri": "https://localhost:8080/"
        },
        "outputId": "a77d8d73-ab27-4505-a434-68d28d2c9e6c"
      },
      "source": [
        "# ToDo : teste sua função softmax com a instância do exemplo abaixo \n",
        "print(softmax([10, 2, -3]))\n",
        "\n",
        "# As saídas individuais devem ser entre 0 e 1 de forma que a soma seja 1. lembre-se, com softmax, temos probabilidades.\n",
        "print(np.sum(softmax([10, 2, -3])))"
      ],
      "execution_count": null,
      "outputs": [
        {
          "output_type": "stream",
          "name": "stdout",
          "text": [
            "[9.99662391e-01 3.35349373e-04 2.25956630e-06]\n",
            "1.0\n"
          ]
        }
      ]
    },
    {
      "cell_type": "markdown",
      "metadata": {
        "id": "FQJhGae7Wqpr"
      },
      "source": [
        "Perceba que nosso código também funciona se você passar um lote (batch) de amostras"
      ]
    },
    {
      "cell_type": "code",
      "metadata": {
        "id": "_AVEyZmQWpJx",
        "colab": {
          "base_uri": "https://localhost:8080/"
        },
        "outputId": "8455f2a3-401d-4808-a84c-2b6b5bbc97c7"
      },
      "source": [
        "# Veja a saída abaixo\n",
        "X = np.array([[10, 2, -3],\n",
        "              [-1, 5, -20]])\n",
        "print(softmax(X), np.sum(softmax(X)), np.sum(softmax(X[0])), np.sum(softmax(X[1])))"
      ],
      "execution_count": null,
      "outputs": [
        {
          "output_type": "stream",
          "name": "stdout",
          "text": [
            "[[9.99662391e-01 3.35349373e-04 2.25956630e-06]\n",
            " [2.47262316e-03 9.97527377e-01 1.38536042e-11]] 2.0 1.0 1.0\n"
          ]
        }
      ]
    },
    {
      "cell_type": "markdown",
      "metadata": {
        "id": "_plFTAbuW64u"
      },
      "source": [
        "Em seguida, deve-se computar o erro entre um vetor predito Y_pred e o vetor de rótulos Y_true. para tal, deve-se usar cross entropy loss, ou verossimilhança negativa (negative log likelihood). A função cross_entrppy() implementa a verossimilhança negativa."
      ]
    },
    {
      "cell_type": "code",
      "metadata": {
        "id": "bzgQbzRlW5WU"
      },
      "source": [
        "def cross_entropy(Y_true, Y_pred):\n",
        "    EPSILON = 1e-8\n",
        "  \n",
        "\n",
        "    Y_true, Y_pred = np.atleast_2d(Y_true), np.atleast_2d(Y_pred)\n",
        "    loglikelihoods = np.sum(np.log(EPSILON + Y_pred) * Y_true, axis=1)\n",
        "    \n",
        "    return -np.mean(loglikelihoods)"
      ],
      "execution_count": null,
      "outputs": []
    },
    {
      "cell_type": "markdown",
      "metadata": {
        "id": "HZBY_8TGXAB0"
      },
      "source": [
        "verifique o erro de uma predição bem ruim"
      ]
    },
    {
      "cell_type": "code",
      "metadata": {
        "id": "H78KTS8MXB8L",
        "colab": {
          "base_uri": "https://localhost:8080/"
        },
        "outputId": "8c48a98b-0cc0-4dd5-ff91-86b3d009d264"
      },
      "source": [
        "print(cross_entropy([1, 0, 0], softmax([0.12, 10, 1])))"
      ],
      "execution_count": null,
      "outputs": [
        {
          "output_type": "stream",
          "name": "stdout",
          "text": [
            "9.879979210592268\n"
          ]
        }
      ]
    },
    {
      "cell_type": "markdown",
      "metadata": {
        "id": "hSEH_4N5XE6r"
      },
      "source": [
        "verifique o erro de uma boa predição"
      ]
    },
    {
      "cell_type": "code",
      "metadata": {
        "id": "XXArje6XXGi3",
        "colab": {
          "base_uri": "https://localhost:8080/"
        },
        "outputId": "83b88d2e-a00e-40b6-84d7-e9632181ef21"
      },
      "source": [
        "print(cross_entropy([1, 0, 0], [0.98, 0.01, .01]))"
      ],
      "execution_count": null,
      "outputs": [
        {
          "output_type": "stream",
          "name": "stdout",
          "text": [
            "0.020202697113437834\n"
          ]
        }
      ]
    },
    {
      "cell_type": "markdown",
      "metadata": {
        "id": "0bf2ChgHXJjT"
      },
      "source": [
        "A função cross_entropy() também deve funcionar para um lote de dados"
      ]
    },
    {
      "cell_type": "code",
      "metadata": {
        "id": "Fx1hEVroXMXx",
        "colab": {
          "base_uri": "https://localhost:8080/"
        },
        "outputId": "8785d0e5-175d-4aa0-9dd1-f943a4b53f89"
      },
      "source": [
        "# Verifique a cross-entropy das três amostas seguintes:\n",
        "\n",
        "Y_true = np.array([[0, 1, 0],\n",
        "                   [1, 0, 0],\n",
        "                   [0, 0, 1]])\n",
        "\n",
        "Y_pred = np.array([[0,   1,    0],\n",
        "                   [.99, 0.01, 0],\n",
        "                   [0,   0,    1]])\n",
        "\n",
        "# repare que as amostras são praticamente predições perfeitas\n",
        "print(cross_entropy(Y_true, Y_pred))"
      ],
      "execution_count": null,
      "outputs": [
        {
          "output_type": "stream",
          "name": "stdout",
          "text": [
            "0.0033501019174971905\n"
          ]
        }
      ]
    },
    {
      "cell_type": "markdown",
      "metadata": {
        "id": "D0qdtdxIZtUb"
      },
      "source": [
        "## Pré-processamento dos dados\n",
        "\n",
        "Vamos usar a biblioteca scikit learn para nos auxiliar na execução da prática. \n",
        "Veja a documentação em https://scikit-learn.org/stable/index.html"
      ]
    },
    {
      "cell_type": "markdown",
      "metadata": {
        "id": "IDJpmPmhZx3_"
      },
      "source": [
        "Considere a base de dados abaixo. Ela é referente a um atividade em um site de vendas qualquer. O objetivo com esta base é tentar predizer quais clientes futuros terão probabildiade de comprar algum produto, com base em algumas características, como cidade em que mora, idade e salário.\n",
        "\n",
        "*Carregando os dados*"
      ]
    },
    {
      "cell_type": "code",
      "metadata": {
        "id": "ShTbKDBbZ0ml",
        "colab": {
          "base_uri": "https://localhost:8080/"
        },
        "outputId": "9b1f1701-fd9e-4b41-d543-882671d1455f"
      },
      "source": [
        "# Importe as bibliotecas NumPy, Pandas e Matplotlib\n",
        "import numpy as np\n",
        "import matplotlib.pyplot as plt\n",
        "import pandas as pd\n",
        "\n",
        "# carregue os dados do arquivo e armazenar em um Dataframe\n",
        "dataset = pd.read_csv('/content/drive/MyDrive/disciplinasDoutorado/PCC177-2022-1(Redes)/lab3/Data.csv')\n",
        "\n",
        "# imprima a estrutura dataset\n",
        "print(dataset)"
      ],
      "execution_count": null,
      "outputs": [
        {
          "output_type": "stream",
          "name": "stdout",
          "text": [
            "       Cidade  Idade  Salario Comprou\n",
            "0  Ouro Preto   44.0  72000.0     Nao\n",
            "1     Mariana   27.0  48000.0     Sim\n",
            "2   Itabirito   30.0  54000.0     Nao\n",
            "3     Mariana   38.0  61000.0     Nao\n",
            "4   Itabirito   40.0      NaN     Sim\n",
            "5  Ouro Preto   35.0  58000.0     Sim\n",
            "6     Mariana    NaN  52000.0     Nao\n",
            "7  Ouro Preto   48.0  79000.0     Sim\n",
            "8   Itabirito   50.0  83000.0     Nao\n",
            "9  Ouro Preto   37.0  67000.0     Sim\n"
          ]
        }
      ]
    },
    {
      "cell_type": "markdown",
      "metadata": {
        "id": "0X189fCBZ4Ib"
      },
      "source": [
        "Crie dois objetos, uma chamado X, para receber as caracteísticas das instâncias e um chamado y para receber as classes. Observe que as instâncias devem ser organizadas em linha Assm, as características da linha 0 de X devem corresponder a classe da linha 0 de y Podemos chamar as variáveis de X (ou características -usadas para fazer a predição) de variáveis independentes e a variável de y (classe a ser predita) de variável dependente."
      ]
    },
    {
      "cell_type": "code",
      "metadata": {
        "id": "X3ODN_jkZ7sr",
        "colab": {
          "base_uri": "https://localhost:8080/"
        },
        "outputId": "df5b5de4-6598-45a8-9d65-9e99e439ea17"
      },
      "source": [
        "X = dataset.iloc[:, :-1].values\n",
        "y = dataset.iloc[:, 3].values\n",
        "\n",
        "# imprima X e y\n",
        "print(X)\n",
        "print(y)\n",
        "\n",
        "# imprima e analise o formato dos objetos\n",
        "print(X.shape)\n",
        "print(y.shape)"
      ],
      "execution_count": null,
      "outputs": [
        {
          "output_type": "stream",
          "name": "stdout",
          "text": [
            "[['Ouro Preto' 44.0 72000.0]\n",
            " ['Mariana' 27.0 48000.0]\n",
            " ['Itabirito' 30.0 54000.0]\n",
            " ['Mariana' 38.0 61000.0]\n",
            " ['Itabirito' 40.0 nan]\n",
            " ['Ouro Preto' 35.0 58000.0]\n",
            " ['Mariana' nan 52000.0]\n",
            " ['Ouro Preto' 48.0 79000.0]\n",
            " ['Itabirito' 50.0 83000.0]\n",
            " ['Ouro Preto' 37.0 67000.0]]\n",
            "['Nao' 'Sim' 'Nao' 'Nao' 'Sim' 'Sim' 'Nao' 'Sim' 'Nao' 'Sim']\n",
            "(10, 3)\n",
            "(10,)\n"
          ]
        }
      ]
    },
    {
      "cell_type": "code",
      "metadata": {
        "id": "UAxJX2xkaB23",
        "colab": {
          "base_uri": "https://localhost:8080/"
        },
        "outputId": "36ff0e48-4bd3-4ad7-cdb1-50e7b7f28ac5"
      },
      "source": [
        "from sklearn.impute import SimpleImputer\n",
        "#imputer = Imputer(missing_values = 'NaN', strategy = 'mean', axis = 0)\n",
        "imputer = SimpleImputer(missing_values=np.nan, strategy='mean')\n",
        "imputer.fit(X[:, 1:3])\n",
        "X[:, 1:3] = imputer.transform(X[:, 1:3])\n",
        "# imprima a nova matriz X\n",
        "print(X)"
      ],
      "execution_count": null,
      "outputs": [
        {
          "output_type": "stream",
          "name": "stdout",
          "text": [
            "[['Ouro Preto' 44.0 72000.0]\n",
            " ['Mariana' 27.0 48000.0]\n",
            " ['Itabirito' 30.0 54000.0]\n",
            " ['Mariana' 38.0 61000.0]\n",
            " ['Itabirito' 40.0 63777.77777777778]\n",
            " ['Ouro Preto' 35.0 58000.0]\n",
            " ['Mariana' 38.77777777777778 52000.0]\n",
            " ['Ouro Preto' 48.0 79000.0]\n",
            " ['Itabirito' 50.0 83000.0]\n",
            " ['Ouro Preto' 37.0 67000.0]]\n"
          ]
        }
      ]
    },
    {
      "cell_type": "markdown",
      "source": [
        "# Parte 3 - Construção MLP no TensorFlow\n",
        "\n",
        "**Continuação proposta (Eduardo):**\n",
        "\n",
        "\n",
        "\n",
        "\n",
        "\n",
        "\n",
        "\n",
        "\n"
      ],
      "metadata": {
        "id": "OGrsYrksr4_J"
      }
    },
    {
      "cell_type": "markdown",
      "source": [
        "\n",
        "## 1-  Definindo as Redes\n",
        "\n",
        "\n"
      ],
      "metadata": {
        "id": "j_anxDmo1U8w"
      }
    },
    {
      "cell_type": "code",
      "source": [
        "import tensorflow as tf\n",
        "import matplotlib.pyplot as plt\n",
        "\n",
        "#função para definição das 3 redes\n",
        "# Create a `Sequential` model and add a Dense layer as the first layer.\n",
        " \n",
        "# Rede 1 (2 camadas (7,1)):\n",
        "def net1(initializer, activation = \"relu\", alpha_LRelu = 0.3):\n",
        "    model = tf.keras.models.Sequential() \n",
        "    model.add(tf.keras.layers.InputLayer(input_shape=(12288,)))\n",
        " \n",
        "    if activation == \"relu\":\n",
        "        model.add(tf.keras.layers.Dense(7, kernel_initializer = initializer))   \n",
        "        model.add(tf.keras.layers.ReLU()) \n",
        "        #model.add(tf.keras.layers.Dense(7, activation= 'relu', kernel_initializer = initializer))\n",
        "    elif activation == \"leakrelu\":\n",
        "        model.add(tf.keras.layers.Dense(7, kernel_initializer = initializer))   \n",
        "        model.add(tf.keras.layers.LeakyReLU(alpha=alpha_LRelu))\n",
        "    else: \n",
        "       model.add(tf.keras.layers.Dense(7, activation=activation, kernel_initializer = initializer))   \n",
        "        \n",
        "    model.add(tf.keras.layers.Dense(1, activation='sigmoid', kernel_initializer = initializer))\n",
        "    return model  \n",
        "\n",
        "# Rede 2 (4 camadas (20,7,5,1)):\n",
        "def net2(initializer, activation = \"relu\", alpha_LRelu = 0.3):\n",
        "    model = tf.keras.models.Sequential() \n",
        "    model.add(tf.keras.layers.InputLayer(input_shape=(12288,)))\n",
        "    if activation == \"relu\":\n",
        "        model.add(tf.keras.layers.Dense(20, kernel_initializer = initializer))   \n",
        "        model.add(tf.keras.layers.ReLU()) \n",
        "        model.add(tf.keras.layers.Dense(7, kernel_initializer = initializer))   \n",
        "        model.add(tf.keras.layers.ReLU()) \n",
        "        model.add(tf.keras.layers.Dense(5, kernel_initializer = initializer))   \n",
        "        model.add(tf.keras.layers.ReLU()) \n",
        "    elif activation == \"leakrelu\":\n",
        "        model.add(tf.keras.layers.Dense(20, kernel_initializer = initializer))   \n",
        "        model.add(tf.keras.layers.LeakyReLU(alpha=alpha_LRelu))\n",
        "        model.add(tf.keras.layers.Dense(7, kernel_initializer = initializer))   \n",
        "        model.add(tf.keras.layers.LeakyReLU(alpha=alpha_LRelu))\n",
        "        model.add(tf.keras.layers.Dense(5, kernel_initializer = initializer))   \n",
        "        model.add(tf.keras.layers.LeakyReLU(alpha=alpha_LRelu))\n",
        "    else: \n",
        "       model.add(tf.keras.layers.Dense(20, activation=activation, kernel_initializer = initializer))   \n",
        "       model.add(tf.keras.layers.Dense(7, activation=activation, kernel_initializer = initializer))   \n",
        "       model.add(tf.keras.layers.Dense(5, activation=activation, kernel_initializer = initializer))   \n",
        "      \n",
        "    model.add(tf.keras.layers.Dense(1, activation='sigmoid', kernel_initializer = initializer))\n",
        "    return model  \n",
        "\n",
        "# Rede 3 (3 camadas (23,11,7,3,1)) com batch_size=None: 10\n",
        "def net3(initializer, activation = \"relu\", alpha_LRelu = 0.3):\n",
        "    model = tf.keras.models.Sequential() \n",
        "    model.add(tf.keras.layers.InputLayer(input_shape=(12288,)))\n",
        "    if activation == \"relu\":\n",
        "        model.add(tf.keras.layers.Dense(23, kernel_initializer = initializer))   \n",
        "        model.add(tf.keras.layers.ReLU()) \n",
        "        model.add(tf.keras.layers.Dense(11, kernel_initializer = initializer))   \n",
        "        model.add(tf.keras.layers.ReLU()) \n",
        "        model.add(tf.keras.layers.Dense(7, kernel_initializer = initializer))   \n",
        "        model.add(tf.keras.layers.ReLU()) \n",
        "        model.add(tf.keras.layers.Dense(3, kernel_initializer = initializer))   \n",
        "        model.add(tf.keras.layers.ReLU()) \n",
        "    elif activation == \"leakrelu\":\n",
        "        model.add(tf.keras.layers.Dense(23, kernel_initializer = initializer))   \n",
        "        model.add(tf.keras.layers.LeakyReLU(alpha=alpha_LRelu))\n",
        "        model.add(tf.keras.layers.Dense(11, kernel_initializer = initializer))   \n",
        "        model.add(tf.keras.layers.LeakyReLU(alpha=alpha_LRelu))\n",
        "        model.add(tf.keras.layers.Dense(7, kernel_initializer = initializer))   \n",
        "        model.add(tf.keras.layers.LeakyReLU(alpha=alpha_LRelu))\n",
        "        model.add(tf.keras.layers.Dense(3, kernel_initializer = initializer))   \n",
        "        model.add(tf.keras.layers.LeakyReLU(alpha=alpha_LRelu))\n",
        "    else: \n",
        "       model.add(tf.keras.layers.Dense(23, activation=activation, kernel_initializer = initializer))   \n",
        "       model.add(tf.keras.layers.Dense(11, activation=activation, kernel_initializer = initializer))   \n",
        "       model.add(tf.keras.layers.Dense(7, activation=activation, kernel_initializer = initializer))   \n",
        "       model.add(tf.keras.layers.Dense(3, activation=activation, kernel_initializer = initializer))   \n",
        "    \n",
        "    model.add(tf.keras.layers.Dense(1, activation='sigmoid', kernel_initializer = initializer))\n",
        "    return model\n",
        "\n",
        "# treina a rede\n",
        "def train(net, loss, trainer, data_train, label_train, metrics, epochs=100):\n",
        "    net.compile(optimizer=trainer, loss=loss, metrics=metrics) \n",
        "\n",
        "    # treinamento \n",
        "    hist = net.fit(data_train, label_train, epochs=epochs, verbose=0)\n",
        "\n",
        "    # Curvas de aprendizagem:\n",
        "    f, (ax1, ax2) = plt.subplots(1, 2, sharey=True)\n",
        "    ax1.plot(np.squeeze(hist.history['loss']))\n",
        "    #ax1.ylabel('custo')\n",
        "    #ax1.xlabel('iterações')\n",
        "     \n",
        "    ax2.plot(np.squeeze(hist.history['accuracy']))\n",
        "    #ax2.ylabel('acuracia')\n",
        "    #ax2.xlabel('iterações')\n",
        "    f.suptitle('Training loss (left) and Accuracy (rigth)')\n",
        "    plt.show()\n",
        "    \n",
        "def predict (net, data_test, label_test):\n",
        "    return net.evaluate(data_test, label_test, verbose=1)\n",
        "\n",
        "def run (net, data_test):\n",
        "    return net(data_test)\n",
        "\n",
        "def test_rede3(inicializador, trainer, alpha_LRelu = None, activation = \"relu\", descr=\"Rede 3(23,11,7,3,1), Relu, SGD, init Uniform ~ N(0,0.01)\"):\n",
        "    net = net3(inicializador, activation, alpha_LRelu)\n",
        "    loss = tf.keras.losses.BinaryCrossentropy(from_logits=False) \n",
        "    train(net, loss, trainer, treino_x.T, treino_y.T, metrics=['accuracy'], epochs=2500)\n",
        "\n",
        "    print(f'\\n Validação - {descr}')\n",
        "    pred = predict (net, teste_x.T, teste_y.T)\n",
        "    return net\n"
      ],
      "metadata": {
        "id": "4Ec8HdJqr328"
      },
      "execution_count": null,
      "outputs": []
    },
    {
      "cell_type": "markdown",
      "source": [
        "  \n",
        "## 2- Repita o problema (classificação de gato/não-gato):\n",
        "\n",
        "Primeiro usando Tensorflow/Keras (ou pytorch/mxnet). Use uma loss baseada em softmax e compare os resultados. Primeiro, implemente a rede de uma camada e depois, a de quatro camadas (mesma arquitetura da Parte-1). \n",
        "\n",
        " Plote a curva de custo (epochs vs loss) para cada caso. O que você conclui? \n",
        "\n",
        "\n",
        "\n",
        "\n",
        "\n",
        "\n"
      ],
      "metadata": {
        "id": "F9zeTqCUsinA"
      }
    },
    {
      "cell_type": "markdown",
      "source": [
        "### Rede 1 (2 camadas (7,1)), Relu, SGD, inicializador Uniform "
      ],
      "metadata": {
        "id": "ZjxiIjXm13mG"
      }
    },
    {
      "cell_type": "code",
      "source": [
        "# Usando dados treino_x_vet (209x 12288), teste_x_vet (209x 12288), teste_y.T(209 x 1), teste_y.T(50 x 1)\n",
        "# Rede 1 (2 camadas (7,1)), ativação Relu, otimizador SGD, inicializador Uniform :\n",
        "ativacao = 'relu'\n",
        "alpha_relu = 0.0\n",
        "inicializador = tf.keras.initializers.RandomNormal(mean=0.0, stddev=0.01)\n",
        "loss = tf.keras.losses.BinaryCrossentropy(from_logits=False)\n",
        "trainer = tf.keras.optimizers.SGD(learning_rate=0.0075) \n",
        "\n",
        "net = net1(inicializador, activation = \"relu\")\n",
        "\n",
        "train(net, loss, trainer, treino_x.T, treino_y.T, metrics=['accuracy'], epochs=2500)\n",
        "\n",
        "print(\"\\nResultado: validação da Rede 1: 2 camadas (7,1), ativação Relu, otimizador SGD, inicializador Uniform ~ N(0,0.01) :\")\n",
        "pred = predict (net, teste_x.T, teste_y.T)"
      ],
      "metadata": {
        "id": "NekYAhJyswa7",
        "colab": {
          "base_uri": "https://localhost:8080/",
          "height": 367
        },
        "outputId": "18c330f0-c8ae-4eb1-ec40-884f284f8655"
      },
      "execution_count": null,
      "outputs": [
        {
          "output_type": "display_data",
          "data": {
            "text/plain": [
              "<Figure size 360x288 with 2 Axes>"
            ],
            "image/png": "[encoded data removed]"
          },
          "metadata": {
            "needs_background": "light"
          }
        },
        {
          "output_type": "stream",
          "name": "stdout",
          "text": [
            "\n",
            "Resultado: validação da Rede 1: 2 camadas (7,1), ativação Relu, otimizador SGD, inicializador Uniform ~ N(0,0.01) :\n",
            "2/2 [==============================] - 0s 7ms/step - loss: 1.9180 - accuracy: 0.7000\n"
          ]
        }
      ]
    },
    {
      "cell_type": "markdown",
      "source": [
        "### Rede 2 (4 camadas (10,7,5,1)), Relu, SGD, inicializador Uniform "
      ],
      "metadata": {
        "id": "Uo9wRph_2GNg"
      }
    },
    {
      "cell_type": "code",
      "source": [
        "# Usando dados treino_x_vet (209x 12288), teste_x_vet (209x 12288), teste_y.T(209 x 1), teste_y.T(50 x 1)\n",
        "# Rede 2 (4 camadas (20,7,5,1)), ativação Relu, otimizador SGD, inicializador Uniform :\n",
        "ativacao = 'relu'\n",
        "alpha_relu = 0.0\n",
        "inicializador = tf.keras.initializers.RandomNormal(mean=0.0, stddev=0.01)\n",
        "loss = tf.keras.losses.BinaryCrossentropy(from_logits=False)\n",
        "trainer = tf.keras.optimizers.SGD(learning_rate=0.0075) \n",
        "\n",
        "net = net2(inicializador, activation = \"relu\")\n",
        "\n",
        "train(net, loss, trainer, treino_x.T, treino_y.T, metrics=['accuracy'], epochs=2500)\n",
        "\n",
        "print(\"\\nResultado: validação da Rede 2: 4 camadas (20,7,5,1), ativação Relu, otimizador SGD, inicializador Uniform ~ N(0,0.01) :\")\n",
        "pred = predict (net, teste_x.T, teste_y.T)\n",
        " "
      ],
      "metadata": {
        "id": "V5wAgyadXhMc",
        "colab": {
          "base_uri": "https://localhost:8080/",
          "height": 367
        },
        "outputId": "0a02827a-d414-4a15-d8c4-2dbda7efc6b8"
      },
      "execution_count": null,
      "outputs": [
        {
          "output_type": "display_data",
          "data": {
            "text/plain": [
              "<Figure size 360x288 with 2 Axes>"
            ],
            "image/png": "[encoded data removed]"
          },
          "metadata": {
            "needs_background": "light"
          }
        },
        {
          "output_type": "stream",
          "name": "stdout",
          "text": [
            "\n",
            "Resultado: validação da Rede 1: 2 camadas (7,1), ativação Relu, otimizador SGD, inicializador Uniform ~ N(0,0.01) :\n",
            "2/2 [==============================] - 0s 8ms/step - loss: 0.8452 - accuracy: 0.3400\n"
          ]
        }
      ]
    },
    {
      "cell_type": "markdown",
      "source": [
        "** Duvida: não entendi porque a perda do teste acima está baixa, pela acurácia menor ainda!  A rede 3 apresentou acurácia maior e perda maior! "
      ],
      "metadata": {
        "id": "39zM533KnOJN"
      }
    },
    {
      "cell_type": "markdown",
      "source": [
        "### Rede 3 (5 camadas (23,11,7,3,1)), Relu, SGD, inicializador RandomNormal"
      ],
      "metadata": {
        "id": "PllBTOpdLrqN"
      }
    },
    {
      "cell_type": "code",
      "source": [
        "# Usando dados treino_x_vet (209x 12288), teste_x_vet (209x 12288), teste_y.T(209 x 1), teste_y.T(50 x 1)\n",
        "# Rede 3 (5 camadas (23,11,7,3,1)), ativação Relu, otimizador SGD, inicializador RandomNormal, LR=0.0075:\n",
        "\n",
        "\n",
        "\n",
        "\n",
        "inicializador = tf.keras.initializers.RandomNormal(mean=0.0, stddev=0.01)\n",
        "trainer = tf.keras.optimizers.SGD(learning_rate=0.0075) \n",
        "net = test_rede3(inicializador, trainer, activation = \"relu\")\n",
        "#y_pred = run(net, teste_x.T)\n",
        "#print(y_pred)\n",
        " "
      ],
      "metadata": {
        "colab": {
          "base_uri": "https://localhost:8080/",
          "height": 347
        },
        "id": "ha7d4INxLv7g",
        "outputId": "a667395a-8383-480a-cb30-ef72adfa2287"
      },
      "execution_count": null,
      "outputs": [
        {
          "output_type": "display_data",
          "data": {
            "text/plain": [
              "<Figure size 360x288 with 2 Axes>"
            ],
            "image/png": "[encoded data removed]"
          },
          "metadata": {
            "needs_background": "light"
          }
        },
        {
          "output_type": "stream",
          "name": "stdout",
          "text": [
            "\n",
            " Validação - Rede 3(23,11,7,3,1), Relu, SGD, init Uniform ~ N(0,0.01)\n",
            "2/2 [==============================] - 0s 6ms/step - loss: 0.8471 - accuracy: 0.3400\n"
          ]
        }
      ]
    },
    {
      "cell_type": "markdown",
      "source": [
        "  \n",
        "## 3-  Alterando os hiperparâmetros (para rede 3):\n",
        "     \n",
        "    \n",
        " \n",
        "\n",
        "\n",
        "\n",
        "\n",
        "\n",
        "\n"
      ],
      "metadata": {
        "id": "0vvL8a8ys3cf"
      }
    },
    {
      "cell_type": "markdown",
      "source": [
        "    *  Algoritmo de otimização (SGD com momento, ADAM, ADADELTA, RMSPROP)\n",
        "    *  Inicialização dos pesos: inicialização aleatória vs uniforme\n",
        "    *  Funções de ativação : troque a sigmoid por (ReLU, GELU, Leaky RELU)\n",
        " \n",
        " Qual combinação rendeu o melhor resultado? Tente explicar o por que."
      ],
      "metadata": {
        "id": "femMy27AKfyg"
      }
    },
    {
      "cell_type": "markdown",
      "source": [
        "## 3.1 - Alterando inicializadores"
      ],
      "metadata": {
        "id": "KEUAvGLv6wE2"
      }
    },
    {
      "cell_type": "code",
      "source": [
        "# Rede 3 (5 camadas (23,11,7,3,1)), ativação Relu, otimizador SGD, inicializador GlorotNormal :\n",
        " \n",
        "inicializador = tf.keras.initializers.GlorotNormal() \n",
        "trainer = tf.keras.optimizers.SGD(learning_rate=0.0075) \n",
        "net = net = test_rede3(inicializador, trainer, activation = \"relu\", descr=\"(5 camadas (23,11,7,3,1)), Relu, SGD, init GlorotNormal\") \n",
        " "
      ],
      "metadata": {
        "colab": {
          "base_uri": "https://localhost:8080/",
          "height": 347
        },
        "id": "mJfVIfrd5qKZ",
        "outputId": "29e55a39-fab4-4b0c-ded6-bfbf9d85be27"
      },
      "execution_count": null,
      "outputs": [
        {
          "output_type": "display_data",
          "data": {
            "text/plain": [
              "<Figure size 360x288 with 2 Axes>"
            ],
            "image/png": "[encoded data removed]"
          },
          "metadata": {
            "needs_background": "light"
          }
        },
        {
          "output_type": "stream",
          "name": "stdout",
          "text": [
            "\n",
            " Validação - (5 camadas (23,11,7,3,1)), Relu, SGD, init GlorotNormal\n",
            "2/2 [==============================] - 0s 6ms/step - loss: 1.2896 - accuracy: 0.7600\n"
          ]
        }
      ]
    },
    {
      "cell_type": "code",
      "source": [
        "# Rede 3 (5 camadas (23,11,7,3,1)), ativação Relu, otimizador SGD, inicializador GlorotUniform :\n",
        " \n",
        "inicializador = tf.keras.initializers.GlorotUniform() \n",
        "trainer = tf.keras.optimizers.SGD(learning_rate=0.0075) \n",
        "net = net = test_rede3(inicializador, trainer, activation = \"relu\", descr=\"(5 camadas (23,11,7,3,1)), Relu, SGD, init GlorotUniform\") "
      ],
      "metadata": {
        "colab": {
          "base_uri": "https://localhost:8080/",
          "height": 347
        },
        "id": "IvxMZzxE7Qym",
        "outputId": "0cd30d65-1d92-4867-abba-9c67d2750638"
      },
      "execution_count": null,
      "outputs": [
        {
          "output_type": "display_data",
          "data": {
            "text/plain": [
              "<Figure size 360x288 with 2 Axes>"
            ],
            "image/png": "[encoded data removed]"
          },
          "metadata": {
            "needs_background": "light"
          }
        },
        {
          "output_type": "stream",
          "name": "stdout",
          "text": [
            "\n",
            " Validação - (5 camadas (23,11,7,3,1)), Relu, SGD, init GlorotUniform\n",
            "2/2 [==============================] - 0s 8ms/step - loss: 2.1483 - accuracy: 0.6800\n"
          ]
        }
      ]
    },
    {
      "cell_type": "markdown",
      "source": [
        "## 3.2 - Alterando Funções de ativação (GELU e Leaky RELU)"
      ],
      "metadata": {
        "id": "OWDQCGl5_t6T"
      }
    },
    {
      "cell_type": "code",
      "source": [
        "# Rede 3 (5 camadas (23,11,7,3,1)), ativação GELU, otimizador SGD, inicializador Uniform ~ N(0,0.01) :\n",
        " \n",
        "inicializador = tf.keras.initializers.RandomNormal(mean=0.0, stddev=0.01)\n",
        "trainer = tf.keras.optimizers.SGD(learning_rate=0.0075) \n",
        "net = test_rede3(inicializador, trainer, activation = \"gelu\", descr=\"Rede 3(23,11,7,3,1), GELU, SGD, init Uniform ~ N(0,0.01)\")"
      ],
      "metadata": {
        "colab": {
          "base_uri": "https://localhost:8080/",
          "height": 347
        },
        "id": "m7yRiRXL__6Q",
        "outputId": "15bb7ce8-72f3-47d7-e42f-3331036ceef7"
      },
      "execution_count": null,
      "outputs": [
        {
          "output_type": "display_data",
          "data": {
            "text/plain": [
              "<Figure size 360x288 with 2 Axes>"
            ],
            "image/png": "[encoded data removed]"
          },
          "metadata": {
            "needs_background": "light"
          }
        },
        {
          "output_type": "stream",
          "name": "stdout",
          "text": [
            "\n",
            " Validação - Rede 3(23,11,7,3,1), GELU, SGD, init Uniform ~ N(0,0.01)\n",
            "2/2 [==============================] - 0s 6ms/step - loss: 0.8480 - accuracy: 0.3400\n"
          ]
        }
      ]
    },
    {
      "cell_type": "code",
      "source": [
        "# Rede 3 (5 camadas (23,11,7,3,1)), ativação  LeakyRELU, otimizador SGD, inicializador Uniform ~ N(0,0.01) :\n",
        " \n",
        "inicializador = tf.keras.initializers.RandomNormal(mean=0.0, stddev=0.01)\n",
        "trainer = tf.keras.optimizers.SGD(learning_rate=0.0075) \n",
        "net = test_rede3(inicializador, trainer, alpha_LRelu = 0.3, activation = \"leakrelu\", descr=\"Rede 3(23,11,7,3,1), LeakyRELU, SGD, init Uniform ~ N(0,0.01)\")"
      ],
      "metadata": {
        "colab": {
          "base_uri": "https://localhost:8080/",
          "height": 347
        },
        "id": "B4Wv9ielBNCd",
        "outputId": "14116fc7-0f0d-48a2-8519-ad5cfebcfa3a"
      },
      "execution_count": null,
      "outputs": [
        {
          "output_type": "display_data",
          "data": {
            "text/plain": [
              "<Figure size 360x288 with 2 Axes>"
            ],
            "image/png": "[encoded data removed]"
          },
          "metadata": {
            "needs_background": "light"
          }
        },
        {
          "output_type": "stream",
          "name": "stdout",
          "text": [
            "\n",
            " Validação - Rede 3(23,11,7,3,1), LeakyRELU, SGD, init Uniform ~ N(0,0.01)\n",
            "2/2 [==============================] - 0s 6ms/step - loss: 0.8469 - accuracy: 0.3400\n"
          ]
        }
      ]
    },
    {
      "cell_type": "markdown",
      "source": [
        "## 3.3 - Alterando o algoritmo de otimização (SGD com momento, ADAM, ADADELTA, RMSPROP)"
      ],
      "metadata": {
        "id": "xjJp53OBjFSq"
      }
    },
    {
      "cell_type": "code",
      "source": [
        "# Rede 3 (5 camadas (23,11,7,3,1)), ativação  RELU, otimizador SGD com momento = 0.9, inicializador Uniform ~ N(0,0.01) :\n",
        " \n",
        "inicializador = tf.keras.initializers.RandomNormal(mean=0.0, stddev=0.01)\n",
        "trainer = tf.keras.optimizers.SGD(learning_rate=0.0075, momentum=0.9) \n",
        "net = test_rede3(inicializador, trainer, activation = \"relu\", descr=\"Rede 3(23,11,7,3,1), Relu, SGD com momentum=0.9, init Uniform ~ N(0,0.01)\")"
      ],
      "metadata": {
        "colab": {
          "base_uri": "https://localhost:8080/",
          "height": 347
        },
        "id": "2oG6-Z4YjFzx",
        "outputId": "ff62f385-9135-4594-b29e-6279582b146a"
      },
      "execution_count": null,
      "outputs": [
        {
          "output_type": "display_data",
          "data": {
            "text/plain": [
              "<Figure size 360x288 with 2 Axes>"
            ],
            "image/png": "[encoded data removed]"
          },
          "metadata": {
            "needs_background": "light"
          }
        },
        {
          "output_type": "stream",
          "name": "stdout",
          "text": [
            "\n",
            " Validação - Rede 3(23,11,7,3,1), Relu, SGD com momentum=0.9, init Uniform ~ N(0,0.01)\n",
            "2/2 [==============================] - 0s 6ms/step - loss: 0.8465 - accuracy: 0.3400\n"
          ]
        }
      ]
    },
    {
      "cell_type": "code",
      "source": [
        "# Rede 3 (5 camadas (23,11,7,3,1)), ativação  RELU, otimizador RMSProp com rho = 0.9, inicializador Uniform ~ N(0,0.01) :\n",
        " \n",
        "inicializador = tf.keras.initializers.RandomNormal(mean=0.0, stddev=0.01)\n",
        "trainer = tf.keras.optimizers.RMSprop(learning_rate=0.0075,  rho=0.9) \n",
        "net = test_rede3(inicializador, trainer, activation = \"relu\", descr=\"Rede 3(23,11,7,3,1), Relu, RMSProp com rho=0.9, init Uniform ~ N(0,0.01)\")"
      ],
      "metadata": {
        "colab": {
          "base_uri": "https://localhost:8080/",
          "height": 347
        },
        "id": "au4TPMnOst8Z",
        "outputId": "9b7c6550-739b-4d32-d12b-3212b4f81512"
      },
      "execution_count": null,
      "outputs": [
        {
          "output_type": "display_data",
          "data": {
            "text/plain": [
              "<Figure size 360x288 with 2 Axes>"
            ],
            "image/png": "[encoded data removed]"
          },
          "metadata": {
            "needs_background": "light"
          }
        },
        {
          "output_type": "stream",
          "name": "stdout",
          "text": [
            "\n",
            " Validação - Rede 3(23,11,7,3,1), Relu, RMSProp com rho=0.9, init Uniform ~ N(0,0.01)\n",
            "2/2 [==============================] - 0s 8ms/step - loss: 13.7201 - accuracy: 0.6200\n"
          ]
        }
      ]
    },
    {
      "cell_type": "code",
      "source": [
        "# Rede 3 (5 camadas (23,11,7,3,1)), ativação  RELU, otimizador ADAM, inicializador Uniform ~ N(0,0.01) :\n",
        " \n",
        "inicializador = tf.keras.initializers.RandomNormal(mean=0.0, stddev=0.01)\n",
        "trainer = tf.keras.optimizers.Adam(learning_rate=0.0075, beta_1=0.9, beta_2=0.999)\n",
        "net = test_rede3(inicializador, trainer, activation = \"relu\", descr=\"Rede 3(23,11,7,3,1), Relu, ADAM, init Uniform ~ N(0,0.01)\")"
      ],
      "metadata": {
        "colab": {
          "base_uri": "https://localhost:8080/",
          "height": 347
        },
        "id": "a0C3xXtwGvQ8",
        "outputId": "a02c838e-cd65-4e9c-a02b-7d92764fef9c"
      },
      "execution_count": null,
      "outputs": [
        {
          "output_type": "display_data",
          "data": {
            "text/plain": [
              "<Figure size 360x288 with 2 Axes>"
            ],
            "image/png": "[encoded data removed]"
          },
          "metadata": {
            "needs_background": "light"
          }
        },
        {
          "output_type": "stream",
          "name": "stdout",
          "text": [
            "\n",
            " Validação - Rede 3(23,11,7,3,1), Relu, ADAM, init Uniform ~ N(0,0.01)\n",
            "2/2 [==============================] - 0s 6ms/step - loss: 0.8451 - accuracy: 0.3400\n"
          ]
        }
      ]
    },
    {
      "cell_type": "code",
      "source": [
        "# Rede 3 (5 camadas (23,11,7,3,1)), ativação  RELU, otimizador ADADELTA, inicializador Uniform ~ N(0,0.01) :\n",
        " \n",
        "inicializador = tf.keras.initializers.RandomNormal(mean=0.0, stddev=0.01)\n",
        "trainer = tf.keras.optimizers.Adadelta(learning_rate=0.0075, rho=0.95)\n",
        "net = test_rede3(inicializador, trainer, activation = \"relu\", descr=\"Rede 3(23,11,7,3,1), Relu, ADADELTA, init Uniform ~ N(0,0.01)\")"
      ],
      "metadata": {
        "colab": {
          "base_uri": "https://localhost:8080/",
          "height": 347
        },
        "id": "dEyTWaUDLfqD",
        "outputId": "c13d374e-abc0-4b60-de41-179f8ab099b9"
      },
      "execution_count": null,
      "outputs": [
        {
          "output_type": "display_data",
          "data": {
            "text/plain": [
              "<Figure size 360x288 with 2 Axes>"
            ],
            "image/png": "[encoded data removed]"
          },
          "metadata": {
            "needs_background": "light"
          }
        },
        {
          "output_type": "stream",
          "name": "stdout",
          "text": [
            "\n",
            " Validação - Rede 3(23,11,7,3,1), Relu, ADADELTA, init Uniform ~ N(0,0.01)\n",
            "2/2 [==============================] - 0s 13ms/step - loss: 0.7238 - accuracy: 0.3400\n"
          ]
        }
      ]
    },
    {
      "cell_type": "markdown",
      "source": [
        "##3.4 - Alterando learning rate"
      ],
      "metadata": {
        "id": "cZqq4ozmMRc2"
      }
    },
    {
      "cell_type": "code",
      "source": [
        " # Rede 3 (5 camadas (23,11,7,3,1)), ativação Relu, otimizador SGD, inicializador GlorotNormal, LR=0.01:\n",
        " \n",
        "inicializador = tf.keras.initializers.GlorotNormal(seed = 42)\n",
        "trainer = tf.keras.optimizers.SGD(learning_rate=0.01) \n",
        "net = net = test_rede3(inicializador, trainer, activation = \"relu\", descr=\"(5 camadas (23,11,7,3,1)), Relu, SGD, init GlorotNormal, LR=0.01\") \n",
        " "
      ],
      "metadata": {
        "colab": {
          "base_uri": "https://localhost:8080/",
          "height": 347
        },
        "id": "GdIXxkDepTYi",
        "outputId": "96ef52c7-7ddd-4376-8287-3e4b3528ed45"
      },
      "execution_count": 23,
      "outputs": [
        {
          "output_type": "display_data",
          "data": {
            "text/plain": [
              "<Figure size 360x288 with 2 Axes>"
            ],
            "image/png": "[encoded data removed]"
          },
          "metadata": {
            "needs_background": "light"
          }
        },
        {
          "output_type": "stream",
          "name": "stdout",
          "text": [
            "\n",
            " Validação - (5 camadas (23,11,7,3,1)), Relu, SGD, init GlorotNormal, LR=0.01\n",
            "2/2 [==============================] - 0s 6ms/step - loss: 2.4138 - accuracy: 0.6200\n"
          ]
        }
      ]
    },
    {
      "cell_type": "code",
      "source": [
        "# Rede 3 (5 camadas (23,11,7,3,1)), ativação Relu, otimizador SGD, inicializador GlorotUniform, LR=0.01:\n",
        " \n",
        "inicializador = tf.keras.initializers.GlorotUniform() \n",
        "trainer = tf.keras.optimizers.SGD(learning_rate=0.01) \n",
        "net = net = test_rede3(inicializador, trainer, activation = \"relu\", descr=\"(5 camadas (23,11,7,3,1)), Relu, SGD, init GlorotUniform, , LR=0.01\") "
      ],
      "metadata": {
        "colab": {
          "base_uri": "https://localhost:8080/",
          "height": 385
        },
        "id": "M6NyHTUjODaL",
        "outputId": "6563dc3b-7f9a-4ad2-c54d-d69f8908229d"
      },
      "execution_count": null,
      "outputs": [
        {
          "output_type": "display_data",
          "data": {
            "text/plain": [
              "<Figure size 360x288 with 2 Axes>"
            ],
            "image/png": "[encoded data removed]"
          },
          "metadata": {
            "needs_background": "light"
          }
        },
        {
          "output_type": "stream",
          "name": "stdout",
          "text": [
            "\n",
            " Validação - (5 camadas (23,11,7,3,1)), Relu, SGD, init GlorotUniform, , LR=0.01\n",
            "WARNING:tensorflow:6 out of the last 11 calls to <function Model.make_test_function.<locals>.test_function at 0x7f82ab91a320> triggered tf.function retracing. Tracing is expensive and the excessive number of tracings could be due to (1) creating @tf.function repeatedly in a loop, (2) passing tensors with different shapes, (3) passing Python objects instead of tensors. For (1), please define your @tf.function outside of the loop. For (2), @tf.function has experimental_relax_shapes=True option that relaxes argument shapes that can avoid unnecessary retracing. For (3), please refer to https://www.tensorflow.org/guide/function#controlling_retracing and https://www.tensorflow.org/api_docs/python/tf/function for  more details.\n",
            "2/2 [==============================] - 0s 7ms/step - loss: 0.8474 - accuracy: 0.3400\n"
          ]
        }
      ]
    },
    {
      "cell_type": "code",
      "source": [
        "# Rede 3 (5 camadas (23,11,7,3,1)), ativação  RELU, otimizador RMSProp com rho = 0.9, inicializador GlorotNormal, LR=0.001 :\n",
        " \n",
        "inicializador = tf.keras.initializers.GlorotNormal(seed = 42)\n",
        "trainer = tf.keras.optimizers.RMSprop(learning_rate=0.001,  rho=0.9) \n",
        "net = test_rede3(inicializador, trainer, activation = \"relu\", descr=\"Rede 3(23,11,7,3,1), Relu, RMSProp com rho=0.9, init GlorotNormal, LR=0.001\")"
      ],
      "metadata": {
        "colab": {
          "base_uri": "https://localhost:8080/",
          "height": 347
        },
        "id": "g4glon5bOXfY",
        "outputId": "f209235a-f7a1-4cbb-e31e-335c640a48b7"
      },
      "execution_count": 24,
      "outputs": [
        {
          "output_type": "display_data",
          "data": {
            "text/plain": [
              "<Figure size 360x288 with 2 Axes>"
            ],
            "image/png": "[encoded data removed]"
          },
          "metadata": {
            "needs_background": "light"
          }
        },
        {
          "output_type": "stream",
          "name": "stdout",
          "text": [
            "\n",
            " Validação - Rede 3(23,11,7,3,1), Relu, RMSProp com rho=0.9, init GlorotNormal, LR=0.001\n",
            "2/2 [==============================] - 0s 8ms/step - loss: 0.8485 - accuracy: 0.3400\n"
          ]
        }
      ]
    },
    {
      "cell_type": "code",
      "source": [
        "# Rede 3 (5 camadas (23,11,7,3,1)), ativação  RELU, otimizador ADAM, inicializador GlorotNormal, LR=0.001 :\n",
        "\n",
        "inicializador = tf.keras.initializers.GlorotNormal(seed = 42)\n",
        "trainer = tf.keras.optimizers.Adam(learning_rate=0.001, beta_1=0.9, beta_2=0.999)\n",
        "net = test_rede3(inicializador, trainer, activation = \"relu\", descr=\"Rede 3(23,11,7,3,1), Relu, ADAM, init GlorotNormal, LR=0.001 \")"
      ],
      "metadata": {
        "colab": {
          "base_uri": "https://localhost:8080/",
          "height": 347
        },
        "id": "nyvvXIuNOxPT",
        "outputId": "e9bfba14-166d-42e0-94e6-17cc672fd8d2"
      },
      "execution_count": 25,
      "outputs": [
        {
          "output_type": "display_data",
          "data": {
            "text/plain": [
              "<Figure size 360x288 with 2 Axes>"
            ],
            "image/png": "[encoded data removed]"
          },
          "metadata": {
            "needs_background": "light"
          }
        },
        {
          "output_type": "stream",
          "name": "stdout",
          "text": [
            "\n",
            " Validação - Rede 3(23,11,7,3,1), Relu, ADAM, init GlorotNormal, LR=0.001 \n",
            "2/2 [==============================] - 0s 8ms/step - loss: 5.8008 - accuracy: 0.7000\n"
          ]
        }
      ]
    },
    {
      "cell_type": "code",
      "source": [
        "# Rede 3 (5 camadas (23,11,7,3,1)), ativação  RELU, otimizador ADADELTA, inicializador GlorotNormal, LR=0.001:\n",
        " \n",
        "inicializador = tf.keras.initializers.GlorotNormal(seed = 42)  \n",
        "trainer = tf.keras.optimizers.Adadelta(learning_rate=0.0015, rho=0.95)\n",
        "net = test_rede3(inicializador, trainer, activation = \"relu\", descr=\"Rede 3(23,11,7,3,1), Relu, ADADELTA, init GlorotNormal, LR=0.0015\")"
      ],
      "metadata": {
        "colab": {
          "base_uri": "https://localhost:8080/",
          "height": 347
        },
        "id": "d4z0YUlzOxaY",
        "outputId": "14e37e57-0e86-4b9c-cad2-91589dd4a2d3"
      },
      "execution_count": 26,
      "outputs": [
        {
          "output_type": "display_data",
          "data": {
            "text/plain": [
              "<Figure size 360x288 with 2 Axes>"
            ],
            "image/png": "[encoded data removed]"
          },
          "metadata": {
            "needs_background": "light"
          }
        },
        {
          "output_type": "stream",
          "name": "stdout",
          "text": [
            "\n",
            " Validação - Rede 3(23,11,7,3,1), Relu, ADADELTA, init GlorotNormal, LR=0.0015\n",
            "2/2 [==============================] - 0s 7ms/step - loss: 0.6817 - accuracy: 0.6200\n"
          ]
        }
      ]
    },
    {
      "cell_type": "markdown",
      "source": [
        "## 3.5 - Conclusões\n",
        "\n",
        "* Um resumo dos experimentos para a Rede proposta de 5 camadas, treinada por 2500 épocas, é exibido abaixo:\n",
        "\n",
        "![ExperimentosLab3.PNG](data:image/png;base64,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)\n",
        "\n",
        "A rede proposta usando função de ativação Relu, otimizador SGD, inicializador GlorotNormal, embora causou overfiting no treino, rendeu o melhor resultado.\n",
        "O uso de todos os demais otimizadores (SGD com momentum, RMSProp, ADAM e ADADELTA), a maioria  auto-adaptados para cada parâmetro, não resultaram em melhorias significativas no modelo. \n",
        "A única configuração que não gerou nem overfiting nem underfíting foi usando otimizador ADADelta, porém ainda com uma acúrácia baixa para os dados de teste.\n",
        "\n",
        "As hipóteses abaixo podem explicar os resultados ruins:\n",
        "  - Poucos dados, desbalanceados são usados para treino (e teste)\n",
        "  - A arquitetura MLP não é a melhor solução para o problema.\n"
      ],
      "metadata": {
        "id": "ZmRtlDrcV2JX"
      }
    }
  ]
}