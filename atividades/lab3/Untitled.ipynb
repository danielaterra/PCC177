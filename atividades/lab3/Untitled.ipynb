{
 "cells": [
  {
   "cell_type": "code",
   "execution_count": 62,
   "id": "7c13d1e7",
   "metadata": {},
   "outputs": [],
   "source": [
    "import numpy as np\n",
    "import tensorflow as tf\n",
    "import tensorflow.keras\n"
   ]
  },
  {
   "cell_type": "code",
   "execution_count": 159,
   "id": "f20f85b2",
   "metadata": {},
   "outputs": [
    {
     "data": {
      "text/plain": [
       "(<tf.Tensor: shape=(2,), dtype=float32, numpy=array([0.5744425, 0.6899744], dtype=float32)>,\n",
       " <tf.Tensor: shape=(2,), dtype=float32, numpy=array([0.37754068, 0.62245935], dtype=float32)>)"
      ]
     },
     "execution_count": 159,
     "metadata": {},
     "output_type": "execute_result"
    }
   ],
   "source": [
    "x = tf.constant([0.3, 0.8])\n",
    "tf.math.sigmoid(x), tf.math.softmax(x)\n",
    "\n"
   ]
  },
  {
   "cell_type": "code",
   "execution_count": 146,
   "id": "099261c4",
   "metadata": {},
   "outputs": [
    {
     "data": {
      "text/plain": [
       "0.08453816"
      ]
     },
     "execution_count": 146,
     "metadata": {},
     "output_type": "execute_result"
    }
   ],
   "source": [
    "y_true = [[0, 1], [0, 1]]\n",
    "y_pred = [[0.05, 0.95], [0.1, 0.8]]\n",
    "# Using 'auto'/'sum_over_batch_size' reduction type.\n",
    "cce = tf.keras.losses.CategoricalCrossentropy()\n",
    "cce(y_true, y_pred).numpy()\n"
   ]
  },
  {
   "cell_type": "code",
   "execution_count": 97,
   "id": "ea358612",
   "metadata": {},
   "outputs": [
    {
     "data": {
      "text/plain": [
       "(0.2744368457017603,\n",
       " 0.2744368457017603,\n",
       " 0.5488736914035206,\n",
       " 0.2744368457017603,\n",
       " 0.13721842285088015)"
      ]
     },
     "execution_count": 97,
     "metadata": {},
     "output_type": "execute_result"
    }
   ],
   "source": [
    "s1 = -1*(np.log(0.95) + np.log(0.8)) #+ np.log(0.8)))\n",
    "s2 = -1*(np.log(1-0.05) + np.log(1- 0.1)) #+ np.log(0.8)))\n",
    "r = (s1 + s2)/2\n",
    "s1,s2, (s1 + s2), (s1 + s2)/2, (s1 + s2)/4"
   ]
  },
  {
   "cell_type": "code",
   "execution_count": 139,
   "id": "5f34ec88",
   "metadata": {},
   "outputs": [
    {
     "data": {
      "text/plain": [
       "(0.10777254, -0.13721842285088015)"
      ]
     },
     "execution_count": 139,
     "metadata": {},
     "output_type": "execute_result"
    }
   ],
   "source": [
    "y_true = [[0, 1], [0, 1]]\n",
    "y_pred = [[0.05, 0.95], [0.1, 0.8]]\n",
    "# Using 'auto'/'sum_over_batch_size' reduction type.\n",
    "cce = tf.keras.losses.BinaryCrossentropy()\n",
    "cce(y_true, y_pred).numpy(), (np.log(0.95) + np.log(0.8)) /2\n"
   ]
  },
  {
   "cell_type": "code",
   "execution_count": 143,
   "id": "fd437797",
   "metadata": {},
   "outputs": [
    {
     "data": {
      "text/plain": [
       "(0.08453818, -1.6094379124340998)"
      ]
     },
     "execution_count": 143,
     "metadata": {},
     "output_type": "execute_result"
    }
   ],
   "source": [
    "y_true = [0, 1]\n",
    "y_pred = [[0.95, 0.05], [0.1, 0.8]]\n",
    "# Using 'auto'/'sum_over_batch_size' reduction type.\n",
    "cce = tf.keras.losses.SparseCategoricalCrossentropy()\n",
    "cce(y_true, y_pred).numpy(), (np.log(1-0.95) + np.log(0.8)) /2"
   ]
  },
  {
   "cell_type": "code",
   "execution_count": 155,
   "id": "4fc503f5",
   "metadata": {},
   "outputs": [
    {
     "data": {
      "text/plain": [
       "(<tf.Tensor: shape=(2, 2), dtype=float32, numpy=\n",
       " array([[0.2890505 , 0.7109495 ],\n",
       "        [0.3318122 , 0.66818774]], dtype=float32)>,\n",
       " -0.34115387842433875,\n",
       " -0.40318605213030445,\n",
       " <tf.Tensor: shape=(2,), dtype=float32, numpy=array([0.34115392, 0.40318608], dtype=float32)>,\n",
       " <tf.Tensor: shape=(), dtype=float32, numpy=0.37217>,\n",
       " <tf.Tensor: shape=(), dtype=float32, numpy=0.3721698>,\n",
       " <tf.Tensor: shape=(), dtype=float32, numpy=0.37216997>)"
      ]
     },
     "execution_count": 155,
     "metadata": {},
     "output_type": "execute_result"
    }
   ],
   "source": [
    "y_true = [[0, 1], [0, 1]]\n",
    "y_pred = [[0.05, 0.95], [0.1, 0.8]]\n",
    "\n",
    "s = tf.nn.softmax(y_pred)\n",
    "\n",
    "x1 = np.log(1 - 0.2890505) + np.log(0.7109495)\n",
    "x2 = np.log(1 - 0.3318122) + np.log(0.66818774)\n",
    "e = tf.nn.softmax_cross_entropy_with_logits(y_true, y_pred)\n",
    "b = tf.keras.losses.BinaryCrossentropy()\n",
    "cce = tf.keras.losses.CategoricalCrossentropy()\n",
    "s,x1/2, x2/2, e, tf.reduce_mean(e), b(y_true, s), cce(y_true, s)"
   ]
  }
 ],
 "metadata": {
  "kernelspec": {
   "display_name": "Python 3 (ipykernel)",
   "language": "python",
   "name": "python3"
  },
  "language_info": {
   "codemirror_mode": {
    "name": "ipython",
    "version": 3
   },
   "file_extension": ".py",
   "mimetype": "text/x-python",
   "name": "python",
   "nbconvert_exporter": "python",
   "pygments_lexer": "ipython3",
   "version": "3.9.1"
  }
 },
 "nbformat": 4,
 "nbformat_minor": 5
}
