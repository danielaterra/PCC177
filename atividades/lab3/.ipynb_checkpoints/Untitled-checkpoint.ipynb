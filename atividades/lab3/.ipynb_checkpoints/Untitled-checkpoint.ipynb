{
 "cells": [
  {
   "cell_type": "code",
   "execution_count": 62,
   "id": "8ff9dae5",
   "metadata": {},
   "outputs": [],
   "source": [
    "import numpy as np\n",
    "import tensorflow as tf\n",
    "import tensorflow.keras\n"
   ]
  },
  {
   "cell_type": "code",
   "execution_count": 64,
   "id": "23b13c66",
   "metadata": {},
   "outputs": [
    {
     "data": {
      "text/plain": [
       "0.08453816"
      ]
     },
     "execution_count": 64,
     "metadata": {},
     "output_type": "execute_result"
    }
   ],
   "source": [
    "y_true = [[0, 1], [0, 1]]\n",
    "y_pred = [[0.05, 0.95], [0.1, 0.8]]\n",
    "# Using 'auto'/'sum_over_batch_size' reduction type.\n",
    "cce = tf.keras.losses.CategoricalCrossentropy()\n",
    "cce(y_true, y_pred).numpy()\n"
   ]
  },
  {
   "cell_type": "code",
   "execution_count": 86,
   "id": "9d059021",
   "metadata": {},
   "outputs": [
    {
     "data": {
      "text/plain": [
       "(0.2744368457017603,\n",
       " 0.15665381004537687,\n",
       " 0.4310906557471372,\n",
       " 0.2155453278735686,\n",
       " 0.1077726639367843)"
      ]
     },
     "execution_count": 86,
     "metadata": {},
     "output_type": "execute_result"
    }
   ],
   "source": [
    "s1 = -1*(np.log(0.95) + np.log(0.8)) #+ np.log(0.8)))\n",
    "s2 = -1*(np.log(1-0.05) + np.log(1- 0.1)) #+ np.log(0.8)))\n",
    "r = (s1 + s2)/2\n",
    "s1,s2, (s1 + s2), (s1 + s2)/2, (s1 + s2)/4"
   ]
  },
  {
   "cell_type": "code",
   "execution_count": 90,
   "id": "f156baa0",
   "metadata": {},
   "outputs": [
    {
     "data": {
      "text/plain": [
       "0.10777254"
      ]
     },
     "execution_count": 90,
     "metadata": {},
     "output_type": "execute_result"
    }
   ],
   "source": [
    "y_true = [[0, 1], [0, 1]]\n",
    "y_pred = [[0.05, 0.95], [0.1, 0.8]]\n",
    "# Using 'auto'/'sum_over_batch_size' reduction type.\n",
    "cce = tf.keras.losses.BinaryCrossentropy()\n",
    "cce(y_true, y_pred).numpy()"
   ]
  },
  {
   "cell_type": "code",
   "execution_count": null,
   "id": "cffdea3e",
   "metadata": {},
   "outputs": [],
   "source": [
    "y_true = [[0, 1], [0, 1]]\n",
    "y_pred = [[0.05, 0.95], [0.1, 0.8]]\n",
    "# Using 'auto'/'sum_over_batch_size' reduction type.\n",
    "cce = tf.keras.losses.SparseCategoricalCrossentropy()\n",
    "cce(y_true, y_pred).numpy()"
   ]
  }
 ],
 "metadata": {
  "kernelspec": {
   "display_name": "Python 3 (ipykernel)",
   "language": "python",
   "name": "python3"
  },
  "language_info": {
   "codemirror_mode": {
    "name": "ipython",
    "version": 3
   },
   "file_extension": ".py",
   "mimetype": "text/x-python",
   "name": "python",
   "nbconvert_exporter": "python",
   "pygments_lexer": "ipython3",
   "version": "3.9.1"
  }
 },
 "nbformat": 4,
 "nbformat_minor": 5
}
